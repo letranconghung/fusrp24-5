{
 "cells": [
  {
   "cell_type": "code",
   "execution_count": 19,
   "metadata": {},
   "outputs": [],
   "source": [
    "import numpy as np\n",
    "import plotly.graph_objects as go\n",
    "import pandas as pd\n",
    "import seaborn as sns\n",
    "import matplotlib.pyplot as plt\n",
    "from functools import reduce\n",
    "from math import ceil, floor\n",
    "sns.set_style('darkgrid')"
   ]
  },
  {
   "cell_type": "code",
   "execution_count": 20,
   "metadata": {},
   "outputs": [],
   "source": [
    "TAB_SIZE = 4\n",
    "EPS = 1e-9"
   ]
  },
  {
   "cell_type": "code",
   "execution_count": 21,
   "metadata": {},
   "outputs": [],
   "source": [
    "def AVAR(q, w, alpha):\n",
    "    eval = [(w[k], q[k])  for k in q.keys()]\n",
    "    res = 0\n",
    "    a = alpha\n",
    "    for wk, qk in sorted(eval, reverse=True):\n",
    "        if np.isclose(alpha, 0, atol = EPS):\n",
    "            break\n",
    "        if alpha >= qk:\n",
    "            res += wk*qk\n",
    "            alpha -= qk\n",
    "        else:\n",
    "            res += wk*alpha\n",
    "            alpha = 0\n",
    "    return res/a\n",
    "\n",
    "def add_qw(qw1, qw2):\n",
    "    # bad error for now\n",
    "    Q_sum = {}\n",
    "    w_sum = {}\n",
    "    for x1, q1 in qw1[0].items():\n",
    "        for x2, q2 in qw2[0].items():\n",
    "            qs = q1*q2\n",
    "            temp = qw1[1][x1] + qw2[1][x2]\n",
    "            if isinstance(x1, int) or isinstance(x1, np.int32):\n",
    "                x1 = (x1,)\n",
    "            if isinstance(x2, int) or isinstance(x2, np.int32):\n",
    "                x2 = (x2,)\n",
    "            xs = x1 + x2\n",
    "            Q_sum[xs] = qs \n",
    "            w_sum[xs] = temp\n",
    "    return (Q_sum, w_sum)\n",
    "\n",
    "def AVAR_of_sum(list_qw, alpha):\n",
    "    return AVAR(*reduce(add_qw, list_qw), alpha)\n",
    "\n",
    "def sum_of_AVAR(list_qw, alpha):\n",
    "    return sum([AVAR(*qw, alpha) for qw in list_qw])"
   ]
  },
  {
   "cell_type": "code",
   "execution_count": 22,
   "metadata": {},
   "outputs": [],
   "source": [
    "class Node:\n",
    "    def __init__(self, id, model, parent = None, Q = {}, cost = {}):\n",
    "        self.id = id\n",
    "        self.parent = parent\n",
    "        self.Q = Q\n",
    "        self.cost = cost\n",
    "        self.w = {}\n",
    "        self.children = []\n",
    "        self.policy = {}\n",
    "        self.terminal = True\n",
    "        self.model = model\n",
    "        self.name = str(id)\n",
    "        self.one_step = None\n",
    "    \n",
    "    def add_child(self, node):\n",
    "        self.children.append(node)\n",
    "        node.parent = self\n",
    "        self.terminal = False\n",
    "        \n",
    "    def get_w(self):\n",
    "        if self.w:\n",
    "            return self.w\n",
    "        if self.terminal:\n",
    "            for x in self.model.X:\n",
    "                self.w[x] = self.cost[x]\n",
    "            return self.w\n",
    "        self.calc_policy()\n",
    "        return self.w    \n",
    "\n",
    "    def calc_policy(self):\n",
    "        \"\"\"\n",
    "            Calculate the optimal policy and value for the maximal subtree rooted here\n",
    "        \"\"\"\n",
    "        if self.terminal:\n",
    "            raise Error(\"calc_policy ran on terminal nodes!\")\n",
    "        def net_one_step(x, u):\n",
    "            res = self.cost[u][x] + self.one_step([(child.Q[u][x], child.get_w()) for child in self.children])\n",
    "            return res\n",
    "        self.policy = {x: min(self.model.U, key=lambda u: net_one_step(x, u)) for x in self.model.X}\n",
    "        self.w = {x: net_one_step(x, self.policy[x]) for x in self.model.X}\n",
    "    \n",
    "    def print_tree(self, level = 0):\n",
    "        print(\" \" * TAB_SIZE * level + self.name)\n",
    "        for child in self.children:\n",
    "            child.print_tree(level+1)"
   ]
  },
  {
   "cell_type": "code",
   "execution_count": 23,
   "metadata": {},
   "outputs": [],
   "source": [
    "class Model:\n",
    "    def __init__(self, lo, hi, U, alpha):\n",
    "        \"\"\"\n",
    "            State space X = [lo, hi] of interval size = 1\n",
    "            Action space U\n",
    "            VaR calculation alpha\n",
    "            Assume that 0 is root node\n",
    "        \"\"\"\n",
    "        self.X = range(lo, hi + 1)\n",
    "        self.lo = lo\n",
    "        self.hi = hi\n",
    "        self.U = U\n",
    "        self.alpha = alpha\n",
    "        self.nodes = [Node(0, self)]\n",
    "        self.root = self.nodes[0]\n",
    "        self.construct_graph()\n",
    "        self.construct_risks()\n",
    "         \n",
    "    def construct_graph(self):\n",
    "        raise NotImplementedError(\"construct_graph has not been properly implemented!\")\n",
    "    \n",
    "    def construct_risks(self):\n",
    "        raise NotImplementedError(\"construct_risks has not been properly implemented!\")\n",
    "        \n",
    "    \n",
    "    def bound(self, q):\n",
    "        q_res = {x : 0 for x in self.X}\n",
    "        for k, qk in q.items():\n",
    "            q_res[max(self.lo, min(k, self.hi))] += qk\n",
    "\n",
    "        return q_res\n",
    "    \n",
    "    def draw_edge(self, parent_i, child_i):\n",
    "        if max(parent_i, child_i) >= len(self.nodes):\n",
    "            # add nodes appropriately\n",
    "            self.nodes += [Node(i, self) for i in range(len(self.nodes), max(parent_i, child_i) + 1)]\n",
    "        self.nodes[parent_i].add_child(self.nodes[child_i])"
   ]
  },
  {
   "cell_type": "markdown",
   "metadata": {},
   "source": [
    "## R & D Model"
   ]
  },
  {
   "cell_type": "code",
   "execution_count": 27,
   "metadata": {},
   "outputs": [],
   "source": [
    "class RDModel(Model):\n",
    "    def __init__ (self, lo, hi, U, alpha, T, investment_cost = 1):\n",
    "        \"\"\"\n",
    "            q0(x, u), q1(x, u)\n",
    "            c0(x, u), c1(x)\n",
    "        \"\"\"\n",
    "        self.T = T\n",
    "        self.n = 2 * T + 2\n",
    "        self.investment_cost = investment_cost\n",
    "        super().__init__(lo, hi, U, alpha)\n",
    "\n",
    "    def construct_graph(self):\n",
    "        \"\"\"\n",
    "            customize graph structure here\n",
    "        \"\"\"\n",
    "        for i in range(self.T):\n",
    "            self.draw_edge(2*i, 2*i + 1)\n",
    "            self.draw_edge(2*i, 2*i + 2)\n",
    "        self.draw_edge(2*self.T, 2*self.T + 1)\n",
    "    \n",
    "    def construct_risks(self):\n",
    "        \"\"\"\n",
    "            set Q, c, and one_step for each node\n",
    "        \"\"\"\n",
    "        def q0(x, u, t):\n",
    "            if u == 0:\n",
    "                return {x-2: 0.2, x-1: 0.2, x: 0.2, x+1: 0.2, x+2: 0.2}\n",
    "            # u == 1\n",
    "            return {x+1: 0.4, x+2: 0.2, x+3: 0.4}\n",
    "\n",
    "        def q1(x, u, t):\n",
    "            if u == 0:\n",
    "                return {x-1: 0.6, x: 0.2, x+1: 0.2}\n",
    "            # u == 1\n",
    "            return {x-1: 0.2, x: 0.4, x+1: 0.4}\n",
    "\n",
    "        def c0(x, u, t):\n",
    "            if u == 0:\n",
    "                return 0\n",
    "            return self.investment_cost\n",
    "\n",
    "        def c1(x, u, t):\n",
    "            # x = state\n",
    "            # a = action of this node\n",
    "            return np.exp(-x/20)\n",
    "        \n",
    "        for i in range(self.n):\n",
    "            self.nodes[i].t = ceil(float(self.nodes[i].id)/2)\n",
    "        for node in self.nodes:\n",
    "            node.t = ceil(float(node.id)/2)\n",
    "            if node.terminal:\n",
    "                node.cost = {x : c1(x, None, node.t) for x in self.X}\n",
    "                node.Q = {u : {x : self.bound(q1(x, u, node.t)) for x in self.X} for u in self.U}\n",
    "            else:\n",
    "                node.cost = {u : {x : c0(x, u, node.t) for x in self.X} for u in self.U}\n",
    "                node.Q = {u : {x : self.bound(q0(x, u, node.t)) for x in self.X} for u in self.U}\n",
    "            #!customize one step here\n",
    "            node.one_step = lambda list_qw : sum_of_AVAR(list_qw, self.alpha)\n",
    "        \n",
    "    # customized functions for this particular model\n",
    "    def policy_change(self, policy):\n",
    "        res = self.lo\n",
    "        for k, v in policy.items():\n",
    "            if v == 1:\n",
    "                res = k\n",
    "        return res"
   ]
  },
  {
   "cell_type": "code",
   "execution_count": null,
   "metadata": {},
   "outputs": [],
   "source": [
    "models = []\n",
    "LO, HI = -100, 100\n",
    "T_range = range(10, 21, 10)\n",
    "investment_costs = range(1, 5, 2)\n",
    "alphas = [0.1, 0.2, 0.3, 0.4, 0.5]"
   ]
  },
  {
   "cell_type": "markdown",
   "metadata": {},
   "source": [
    "### Plot against investment_costs, fixed alpha = 0.3"
   ]
  },
  {
   "cell_type": "code",
   "execution_count": null,
   "metadata": {},
   "outputs": [],
   "source": [
    "\"\"\"\n",
    "    Plot against investment_costs\n",
    "\"\"\"\n",
    "frames = []\n",
    "for investment_cost in investment_costs:\n",
    "    frame = []\n",
    "    for T in T_range:\n",
    "        model = RDModel(LO, HI, [0, 1], 0.3, T, investment_cost)\n",
    "        model.root.calc_policy()\n",
    "        x = [node.t for node in model.nodes if node.policy]\n",
    "        y = [model.policy_change(node.policy) for node in model.nodes if node.policy]\n",
    "        frame.append(go.Scatter(x = x, y = y, mode = 'markers', name=f'T = {T}'))\n",
    "    frames.append(go.Frame(data = frame, name = f'Cost {investment_cost}'))"
   ]
  },
  {
   "cell_type": "code",
   "execution_count": null,
   "metadata": {},
   "outputs": [
    {
     "data": {
      "application/vnd.plotly.v1+json": {
       "config": {
        "plotlyServerURL": "https://plot.ly"
       },
       "data": [
        {
         "mode": "markers",
         "name": "T = 10",
         "type": "scatter",
         "x": [
          0,
          1,
          2,
          3,
          4,
          5,
          6,
          7,
          8,
          9,
          10
         ],
         "y": [
          13,
          12,
          11,
          10,
          9,
          7,
          6,
          5,
          4,
          2,
          -1
         ]
        },
        {
         "mode": "markers",
         "name": "T = 20",
         "type": "scatter",
         "x": [
          0,
          1,
          2,
          3,
          4,
          5,
          6,
          7,
          8,
          9,
          10,
          11,
          12,
          13,
          14,
          15,
          16,
          17,
          18,
          19,
          20
         ],
         "y": [
          19,
          19,
          19,
          19,
          19,
          18,
          17,
          16,
          15,
          14,
          13,
          12,
          11,
          10,
          9,
          7,
          6,
          5,
          4,
          2,
          -1
         ]
        }
       ],
       "frames": [
        {
         "data": [
          {
           "mode": "markers",
           "name": "T = 10",
           "type": "scatter",
           "x": [
            0,
            1,
            2,
            3,
            4,
            5,
            6,
            7,
            8,
            9,
            10
           ],
           "y": [
            13,
            12,
            11,
            10,
            9,
            7,
            6,
            5,
            4,
            2,
            -1
           ]
          },
          {
           "mode": "markers",
           "name": "T = 20",
           "type": "scatter",
           "x": [
            0,
            1,
            2,
            3,
            4,
            5,
            6,
            7,
            8,
            9,
            10,
            11,
            12,
            13,
            14,
            15,
            16,
            17,
            18,
            19,
            20
           ],
           "y": [
            19,
            19,
            19,
            19,
            19,
            18,
            17,
            16,
            15,
            14,
            13,
            12,
            11,
            10,
            9,
            7,
            6,
            5,
            4,
            2,
            -1
           ]
          }
         ],
         "name": "Cost 1"
        },
        {
         "data": [
          {
           "mode": "markers",
           "name": "T = 10",
           "type": "scatter",
           "x": [
            0,
            1,
            2,
            3,
            4,
            5,
            6,
            7,
            8,
            9,
            10
           ],
           "y": [
            12,
            11,
            10,
            9,
            8,
            6,
            5,
            4,
            3,
            1,
            -2
           ]
          },
          {
           "mode": "markers",
           "name": "T = 20",
           "type": "scatter",
           "x": [
            0,
            1,
            2,
            3,
            4,
            5,
            6,
            7,
            8,
            9,
            10,
            11,
            12,
            13,
            14,
            15,
            16,
            17,
            18,
            19,
            20
           ],
           "y": [
            19,
            19,
            19,
            19,
            18,
            17,
            16,
            15,
            14,
            13,
            12,
            11,
            10,
            9,
            8,
            6,
            5,
            4,
            3,
            1,
            -2
           ]
          }
         ],
         "name": "Cost 3"
        }
       ],
       "layout": {
        "sliders": [
         {
          "steps": [
           {
            "args": [
             [
              "Cost 1"
             ],
             {
              "frame": {
               "duration": 300,
               "redraw": true
              },
              "mode": "immediate"
             }
            ],
            "label": "Cost 1",
            "method": "animate"
           },
           {
            "args": [
             [
              "Cost 3"
             ],
             {
              "frame": {
               "duration": 300,
               "redraw": true
              },
              "mode": "immediate"
             }
            ],
            "label": "Cost 3",
            "method": "animate"
           }
          ],
          "transition": {
           "duration": 300
          }
         }
        ],
        "template": {
         "data": {
          "bar": [
           {
            "error_x": {
             "color": "#2a3f5f"
            },
            "error_y": {
             "color": "#2a3f5f"
            },
            "marker": {
             "line": {
              "color": "#E5ECF6",
              "width": 0.5
             },
             "pattern": {
              "fillmode": "overlay",
              "size": 10,
              "solidity": 0.2
             }
            },
            "type": "bar"
           }
          ],
          "barpolar": [
           {
            "marker": {
             "line": {
              "color": "#E5ECF6",
              "width": 0.5
             },
             "pattern": {
              "fillmode": "overlay",
              "size": 10,
              "solidity": 0.2
             }
            },
            "type": "barpolar"
           }
          ],
          "carpet": [
           {
            "aaxis": {
             "endlinecolor": "#2a3f5f",
             "gridcolor": "white",
             "linecolor": "white",
             "minorgridcolor": "white",
             "startlinecolor": "#2a3f5f"
            },
            "baxis": {
             "endlinecolor": "#2a3f5f",
             "gridcolor": "white",
             "linecolor": "white",
             "minorgridcolor": "white",
             "startlinecolor": "#2a3f5f"
            },
            "type": "carpet"
           }
          ],
          "choropleth": [
           {
            "colorbar": {
             "outlinewidth": 0,
             "ticks": ""
            },
            "type": "choropleth"
           }
          ],
          "contour": [
           {
            "colorbar": {
             "outlinewidth": 0,
             "ticks": ""
            },
            "colorscale": [
             [
              0,
              "#0d0887"
             ],
             [
              0.1111111111111111,
              "#46039f"
             ],
             [
              0.2222222222222222,
              "#7201a8"
             ],
             [
              0.3333333333333333,
              "#9c179e"
             ],
             [
              0.4444444444444444,
              "#bd3786"
             ],
             [
              0.5555555555555556,
              "#d8576b"
             ],
             [
              0.6666666666666666,
              "#ed7953"
             ],
             [
              0.7777777777777778,
              "#fb9f3a"
             ],
             [
              0.8888888888888888,
              "#fdca26"
             ],
             [
              1,
              "#f0f921"
             ]
            ],
            "type": "contour"
           }
          ],
          "contourcarpet": [
           {
            "colorbar": {
             "outlinewidth": 0,
             "ticks": ""
            },
            "type": "contourcarpet"
           }
          ],
          "heatmap": [
           {
            "colorbar": {
             "outlinewidth": 0,
             "ticks": ""
            },
            "colorscale": [
             [
              0,
              "#0d0887"
             ],
             [
              0.1111111111111111,
              "#46039f"
             ],
             [
              0.2222222222222222,
              "#7201a8"
             ],
             [
              0.3333333333333333,
              "#9c179e"
             ],
             [
              0.4444444444444444,
              "#bd3786"
             ],
             [
              0.5555555555555556,
              "#d8576b"
             ],
             [
              0.6666666666666666,
              "#ed7953"
             ],
             [
              0.7777777777777778,
              "#fb9f3a"
             ],
             [
              0.8888888888888888,
              "#fdca26"
             ],
             [
              1,
              "#f0f921"
             ]
            ],
            "type": "heatmap"
           }
          ],
          "heatmapgl": [
           {
            "colorbar": {
             "outlinewidth": 0,
             "ticks": ""
            },
            "colorscale": [
             [
              0,
              "#0d0887"
             ],
             [
              0.1111111111111111,
              "#46039f"
             ],
             [
              0.2222222222222222,
              "#7201a8"
             ],
             [
              0.3333333333333333,
              "#9c179e"
             ],
             [
              0.4444444444444444,
              "#bd3786"
             ],
             [
              0.5555555555555556,
              "#d8576b"
             ],
             [
              0.6666666666666666,
              "#ed7953"
             ],
             [
              0.7777777777777778,
              "#fb9f3a"
             ],
             [
              0.8888888888888888,
              "#fdca26"
             ],
             [
              1,
              "#f0f921"
             ]
            ],
            "type": "heatmapgl"
           }
          ],
          "histogram": [
           {
            "marker": {
             "pattern": {
              "fillmode": "overlay",
              "size": 10,
              "solidity": 0.2
             }
            },
            "type": "histogram"
           }
          ],
          "histogram2d": [
           {
            "colorbar": {
             "outlinewidth": 0,
             "ticks": ""
            },
            "colorscale": [
             [
              0,
              "#0d0887"
             ],
             [
              0.1111111111111111,
              "#46039f"
             ],
             [
              0.2222222222222222,
              "#7201a8"
             ],
             [
              0.3333333333333333,
              "#9c179e"
             ],
             [
              0.4444444444444444,
              "#bd3786"
             ],
             [
              0.5555555555555556,
              "#d8576b"
             ],
             [
              0.6666666666666666,
              "#ed7953"
             ],
             [
              0.7777777777777778,
              "#fb9f3a"
             ],
             [
              0.8888888888888888,
              "#fdca26"
             ],
             [
              1,
              "#f0f921"
             ]
            ],
            "type": "histogram2d"
           }
          ],
          "histogram2dcontour": [
           {
            "colorbar": {
             "outlinewidth": 0,
             "ticks": ""
            },
            "colorscale": [
             [
              0,
              "#0d0887"
             ],
             [
              0.1111111111111111,
              "#46039f"
             ],
             [
              0.2222222222222222,
              "#7201a8"
             ],
             [
              0.3333333333333333,
              "#9c179e"
             ],
             [
              0.4444444444444444,
              "#bd3786"
             ],
             [
              0.5555555555555556,
              "#d8576b"
             ],
             [
              0.6666666666666666,
              "#ed7953"
             ],
             [
              0.7777777777777778,
              "#fb9f3a"
             ],
             [
              0.8888888888888888,
              "#fdca26"
             ],
             [
              1,
              "#f0f921"
             ]
            ],
            "type": "histogram2dcontour"
           }
          ],
          "mesh3d": [
           {
            "colorbar": {
             "outlinewidth": 0,
             "ticks": ""
            },
            "type": "mesh3d"
           }
          ],
          "parcoords": [
           {
            "line": {
             "colorbar": {
              "outlinewidth": 0,
              "ticks": ""
             }
            },
            "type": "parcoords"
           }
          ],
          "pie": [
           {
            "automargin": true,
            "type": "pie"
           }
          ],
          "scatter": [
           {
            "fillpattern": {
             "fillmode": "overlay",
             "size": 10,
             "solidity": 0.2
            },
            "type": "scatter"
           }
          ],
          "scatter3d": [
           {
            "line": {
             "colorbar": {
              "outlinewidth": 0,
              "ticks": ""
             }
            },
            "marker": {
             "colorbar": {
              "outlinewidth": 0,
              "ticks": ""
             }
            },
            "type": "scatter3d"
           }
          ],
          "scattercarpet": [
           {
            "marker": {
             "colorbar": {
              "outlinewidth": 0,
              "ticks": ""
             }
            },
            "type": "scattercarpet"
           }
          ],
          "scattergeo": [
           {
            "marker": {
             "colorbar": {
              "outlinewidth": 0,
              "ticks": ""
             }
            },
            "type": "scattergeo"
           }
          ],
          "scattergl": [
           {
            "marker": {
             "colorbar": {
              "outlinewidth": 0,
              "ticks": ""
             }
            },
            "type": "scattergl"
           }
          ],
          "scattermapbox": [
           {
            "marker": {
             "colorbar": {
              "outlinewidth": 0,
              "ticks": ""
             }
            },
            "type": "scattermapbox"
           }
          ],
          "scatterpolar": [
           {
            "marker": {
             "colorbar": {
              "outlinewidth": 0,
              "ticks": ""
             }
            },
            "type": "scatterpolar"
           }
          ],
          "scatterpolargl": [
           {
            "marker": {
             "colorbar": {
              "outlinewidth": 0,
              "ticks": ""
             }
            },
            "type": "scatterpolargl"
           }
          ],
          "scatterternary": [
           {
            "marker": {
             "colorbar": {
              "outlinewidth": 0,
              "ticks": ""
             }
            },
            "type": "scatterternary"
           }
          ],
          "surface": [
           {
            "colorbar": {
             "outlinewidth": 0,
             "ticks": ""
            },
            "colorscale": [
             [
              0,
              "#0d0887"
             ],
             [
              0.1111111111111111,
              "#46039f"
             ],
             [
              0.2222222222222222,
              "#7201a8"
             ],
             [
              0.3333333333333333,
              "#9c179e"
             ],
             [
              0.4444444444444444,
              "#bd3786"
             ],
             [
              0.5555555555555556,
              "#d8576b"
             ],
             [
              0.6666666666666666,
              "#ed7953"
             ],
             [
              0.7777777777777778,
              "#fb9f3a"
             ],
             [
              0.8888888888888888,
              "#fdca26"
             ],
             [
              1,
              "#f0f921"
             ]
            ],
            "type": "surface"
           }
          ],
          "table": [
           {
            "cells": {
             "fill": {
              "color": "#EBF0F8"
             },
             "line": {
              "color": "white"
             }
            },
            "header": {
             "fill": {
              "color": "#C8D4E3"
             },
             "line": {
              "color": "white"
             }
            },
            "type": "table"
           }
          ]
         },
         "layout": {
          "annotationdefaults": {
           "arrowcolor": "#2a3f5f",
           "arrowhead": 0,
           "arrowwidth": 1
          },
          "autotypenumbers": "strict",
          "coloraxis": {
           "colorbar": {
            "outlinewidth": 0,
            "ticks": ""
           }
          },
          "colorscale": {
           "diverging": [
            [
             0,
             "#8e0152"
            ],
            [
             0.1,
             "#c51b7d"
            ],
            [
             0.2,
             "#de77ae"
            ],
            [
             0.3,
             "#f1b6da"
            ],
            [
             0.4,
             "#fde0ef"
            ],
            [
             0.5,
             "#f7f7f7"
            ],
            [
             0.6,
             "#e6f5d0"
            ],
            [
             0.7,
             "#b8e186"
            ],
            [
             0.8,
             "#7fbc41"
            ],
            [
             0.9,
             "#4d9221"
            ],
            [
             1,
             "#276419"
            ]
           ],
           "sequential": [
            [
             0,
             "#0d0887"
            ],
            [
             0.1111111111111111,
             "#46039f"
            ],
            [
             0.2222222222222222,
             "#7201a8"
            ],
            [
             0.3333333333333333,
             "#9c179e"
            ],
            [
             0.4444444444444444,
             "#bd3786"
            ],
            [
             0.5555555555555556,
             "#d8576b"
            ],
            [
             0.6666666666666666,
             "#ed7953"
            ],
            [
             0.7777777777777778,
             "#fb9f3a"
            ],
            [
             0.8888888888888888,
             "#fdca26"
            ],
            [
             1,
             "#f0f921"
            ]
           ],
           "sequentialminus": [
            [
             0,
             "#0d0887"
            ],
            [
             0.1111111111111111,
             "#46039f"
            ],
            [
             0.2222222222222222,
             "#7201a8"
            ],
            [
             0.3333333333333333,
             "#9c179e"
            ],
            [
             0.4444444444444444,
             "#bd3786"
            ],
            [
             0.5555555555555556,
             "#d8576b"
            ],
            [
             0.6666666666666666,
             "#ed7953"
            ],
            [
             0.7777777777777778,
             "#fb9f3a"
            ],
            [
             0.8888888888888888,
             "#fdca26"
            ],
            [
             1,
             "#f0f921"
            ]
           ]
          },
          "colorway": [
           "#636efa",
           "#EF553B",
           "#00cc96",
           "#ab63fa",
           "#FFA15A",
           "#19d3f3",
           "#FF6692",
           "#B6E880",
           "#FF97FF",
           "#FECB52"
          ],
          "font": {
           "color": "#2a3f5f"
          },
          "geo": {
           "bgcolor": "white",
           "lakecolor": "white",
           "landcolor": "#E5ECF6",
           "showlakes": true,
           "showland": true,
           "subunitcolor": "white"
          },
          "hoverlabel": {
           "align": "left"
          },
          "hovermode": "closest",
          "mapbox": {
           "style": "light"
          },
          "paper_bgcolor": "white",
          "plot_bgcolor": "#E5ECF6",
          "polar": {
           "angularaxis": {
            "gridcolor": "white",
            "linecolor": "white",
            "ticks": ""
           },
           "bgcolor": "#E5ECF6",
           "radialaxis": {
            "gridcolor": "white",
            "linecolor": "white",
            "ticks": ""
           }
          },
          "scene": {
           "xaxis": {
            "backgroundcolor": "#E5ECF6",
            "gridcolor": "white",
            "gridwidth": 2,
            "linecolor": "white",
            "showbackground": true,
            "ticks": "",
            "zerolinecolor": "white"
           },
           "yaxis": {
            "backgroundcolor": "#E5ECF6",
            "gridcolor": "white",
            "gridwidth": 2,
            "linecolor": "white",
            "showbackground": true,
            "ticks": "",
            "zerolinecolor": "white"
           },
           "zaxis": {
            "backgroundcolor": "#E5ECF6",
            "gridcolor": "white",
            "gridwidth": 2,
            "linecolor": "white",
            "showbackground": true,
            "ticks": "",
            "zerolinecolor": "white"
           }
          },
          "shapedefaults": {
           "line": {
            "color": "#2a3f5f"
           }
          },
          "ternary": {
           "aaxis": {
            "gridcolor": "white",
            "linecolor": "white",
            "ticks": ""
           },
           "baxis": {
            "gridcolor": "white",
            "linecolor": "white",
            "ticks": ""
           },
           "bgcolor": "#E5ECF6",
           "caxis": {
            "gridcolor": "white",
            "linecolor": "white",
            "ticks": ""
           }
          },
          "title": {
           "x": 0.05
          },
          "xaxis": {
           "automargin": true,
           "gridcolor": "white",
           "linecolor": "white",
           "ticks": "",
           "title": {
            "standoff": 15
           },
           "zerolinecolor": "white",
           "zerolinewidth": 2
          },
          "yaxis": {
           "automargin": true,
           "gridcolor": "white",
           "linecolor": "white",
           "ticks": "",
           "title": {
            "standoff": 15
           },
           "zerolinecolor": "white",
           "zerolinewidth": 2
          }
         }
        },
        "title": {
         "text": "Changes by Time with Cost Slider"
        },
        "updatemenus": [
         {
          "buttons": [
           {
            "args": [
             null,
             {
              "frame": {
               "duration": 500,
               "redraw": true
              },
              "fromcurrent": true,
              "mode": "immediate"
             }
            ],
            "label": "Play",
            "method": "animate"
           },
           {
            "args": [
             [
              null
             ],
             {
              "frame": {
               "duration": 0,
               "redraw": false
              },
              "mode": "immediate"
             }
            ],
            "label": "Pause",
            "method": "animate"
           }
          ],
          "showactive": false,
          "type": "buttons"
         }
        ],
        "xaxis": {
         "dtick": 10,
         "linecolor": "black",
         "linewidth": 1,
         "mirror": true,
         "showline": true,
         "title": {
          "text": "Time"
         }
        },
        "yaxis": {
         "dtick": 10,
         "linecolor": "black",
         "linewidth": 1,
         "mirror": true,
         "range": [
          -50,
          60
         ],
         "showline": true,
         "title": {
          "text": "Value of Change"
         }
        }
       }
      }
     },
     "metadata": {},
     "output_type": "display_data"
    }
   ],
   "source": [
    "# Create the figure with the frames and the slider\n",
    "fig = go.Figure(\n",
    "    data=frames[0].data,\n",
    "    layout=go.Layout(\n",
    "        title='Changes by Time with Cost Slider',\n",
    "        xaxis=dict(title='Time'),\n",
    "        yaxis=dict(title='Value of Change'),\n",
    "        yaxis_range=[-50, 60],\n",
    "        updatemenus=[dict(\n",
    "            type=\"buttons\",\n",
    "            showactive=False,\n",
    "            buttons=[dict(label=\"Play\",\n",
    "                          method=\"animate\",\n",
    "                          args=[None, dict(frame=dict(duration=500, redraw=True), fromcurrent=True, mode=\"immediate\")]),\n",
    "                     dict(label=\"Pause\",\n",
    "                          method=\"animate\",\n",
    "                          args=[[None], dict(frame=dict(duration=0, redraw=False), mode=\"immediate\")])]\n",
    "        )]\n",
    "    ),\n",
    "    frames=frames\n",
    ")\n",
    "\n",
    "# Configure the sliders\n",
    "fig.update_xaxes(showline=True, linewidth=1, linecolor='black', mirror=True)\n",
    "fig.update_yaxes(showline=True, linewidth=1, linecolor='black', mirror=True)\n",
    "fig.update_layout(\n",
    "    yaxis=dict(dtick=10),\n",
    "    xaxis=dict(dtick=10),\n",
    "    sliders=[{\n",
    "        'steps': [{'args': [[f.name], {'frame': {'duration': 300, 'redraw': True}, 'mode': 'immediate'}],\n",
    "                   'label': f'{f.name}',\n",
    "                   'method': 'animate'} for f in frames],\n",
    "        'transition': {'duration': 300},\n",
    "    }]\n",
    ")\n",
    "fig.show()"
   ]
  },
  {
   "cell_type": "markdown",
   "metadata": {},
   "source": [
    "### Plot against alphas, fixed investment_cost = 5"
   ]
  },
  {
   "cell_type": "code",
   "execution_count": null,
   "metadata": {},
   "outputs": [],
   "source": [
    "\"\"\"\n",
    "    Plot against alphas\n",
    "\"\"\"\n",
    "frames = []\n",
    "for alpha in alphas:\n",
    "    frame = []\n",
    "    for T in T_range:\n",
    "        model = RDModel(LO, HI, [0, 1], alpha, T, 5)\n",
    "        model.root.calc_policy()\n",
    "        x = [node.t for node in model.nodes if node.policy]\n",
    "        y = [model.policy_change(node.policy) for node in model.nodes if node.policy]\n",
    "        frame.append(go.Scatter(x = x, y = y, mode = 'markers', name=f'T = {T}'))\n",
    "    frames.append(go.Frame(data = frame, name = f'Alpha {alpha}'))"
   ]
  },
  {
   "cell_type": "code",
   "execution_count": null,
   "metadata": {},
   "outputs": [
    {
     "data": {
      "application/vnd.plotly.v1+json": {
       "config": {
        "plotlyServerURL": "https://plot.ly"
       },
       "data": [
        {
         "mode": "markers",
         "name": "T = 10",
         "type": "scatter",
         "x": [
          0,
          1,
          2,
          3,
          4,
          5,
          6,
          7,
          8,
          9,
          10
         ],
         "y": [
          19,
          17,
          15,
          13,
          11,
          9,
          7,
          5,
          3,
          1,
          -20
         ]
        },
        {
         "mode": "markers",
         "name": "T = 20",
         "type": "scatter",
         "x": [
          0,
          1,
          2,
          3,
          4,
          5,
          6,
          7,
          8,
          9,
          10,
          11,
          12,
          13,
          14,
          15,
          16,
          17,
          18,
          19,
          20
         ],
         "y": [
          19,
          19,
          19,
          19,
          19,
          19,
          19,
          19,
          19,
          19,
          19,
          17,
          15,
          13,
          11,
          9,
          7,
          5,
          3,
          1,
          -20
         ]
        }
       ],
       "frames": [
        {
         "data": [
          {
           "mode": "markers",
           "name": "T = 10",
           "type": "scatter",
           "x": [
            0,
            1,
            2,
            3,
            4,
            5,
            6,
            7,
            8,
            9,
            10
           ],
           "y": [
            19,
            17,
            15,
            13,
            11,
            9,
            7,
            5,
            3,
            1,
            -20
           ]
          },
          {
           "mode": "markers",
           "name": "T = 20",
           "type": "scatter",
           "x": [
            0,
            1,
            2,
            3,
            4,
            5,
            6,
            7,
            8,
            9,
            10,
            11,
            12,
            13,
            14,
            15,
            16,
            17,
            18,
            19,
            20
           ],
           "y": [
            19,
            19,
            19,
            19,
            19,
            19,
            19,
            19,
            19,
            19,
            19,
            17,
            15,
            13,
            11,
            9,
            7,
            5,
            3,
            1,
            -20
           ]
          }
         ],
         "name": "Alpha 0.1"
        },
        {
         "data": [
          {
           "mode": "markers",
           "name": "T = 10",
           "type": "scatter",
           "x": [
            0,
            1,
            2,
            3,
            4,
            5,
            6,
            7,
            8,
            9,
            10
           ],
           "y": [
            19,
            17,
            15,
            13,
            11,
            9,
            7,
            5,
            3,
            1,
            -20
           ]
          },
          {
           "mode": "markers",
           "name": "T = 20",
           "type": "scatter",
           "x": [
            0,
            1,
            2,
            3,
            4,
            5,
            6,
            7,
            8,
            9,
            10,
            11,
            12,
            13,
            14,
            15,
            16,
            17,
            18,
            19,
            20
           ],
           "y": [
            19,
            19,
            19,
            19,
            19,
            19,
            19,
            19,
            19,
            19,
            19,
            17,
            15,
            13,
            11,
            9,
            7,
            5,
            3,
            1,
            -20
           ]
          }
         ],
         "name": "Alpha 0.2"
        },
        {
         "data": [
          {
           "mode": "markers",
           "name": "T = 10",
           "type": "scatter",
           "x": [
            0,
            1,
            2,
            3,
            4,
            5,
            6,
            7,
            8,
            9,
            10
           ],
           "y": [
            11,
            10,
            9,
            8,
            7,
            6,
            5,
            4,
            2,
            1,
            -3
           ]
          },
          {
           "mode": "markers",
           "name": "T = 20",
           "type": "scatter",
           "x": [
            0,
            1,
            2,
            3,
            4,
            5,
            6,
            7,
            8,
            9,
            10,
            11,
            12,
            13,
            14,
            15,
            16,
            17,
            18,
            19,
            20
           ],
           "y": [
            19,
            19,
            19,
            19,
            18,
            17,
            16,
            15,
            14,
            12,
            11,
            10,
            9,
            8,
            7,
            6,
            5,
            4,
            2,
            1,
            -3
           ]
          }
         ],
         "name": "Alpha 0.3"
        },
        {
         "data": [
          {
           "mode": "markers",
           "name": "T = 10",
           "type": "scatter",
           "x": [
            0,
            1,
            2,
            3,
            4,
            5,
            6,
            7,
            8,
            9,
            10
           ],
           "y": [
            11,
            10,
            8,
            7,
            6,
            5,
            4,
            3,
            2,
            1,
            -2
           ]
          },
          {
           "mode": "markers",
           "name": "T = 20",
           "type": "scatter",
           "x": [
            0,
            1,
            2,
            3,
            4,
            5,
            6,
            7,
            8,
            9,
            10,
            11,
            12,
            13,
            14,
            15,
            16,
            17,
            18,
            19,
            20
           ],
           "y": [
            19,
            19,
            19,
            18,
            17,
            16,
            15,
            14,
            13,
            12,
            11,
            10,
            8,
            7,
            6,
            5,
            4,
            3,
            2,
            1,
            -2
           ]
          }
         ],
         "name": "Alpha 0.4"
        },
        {
         "data": [
          {
           "mode": "markers",
           "name": "T = 10",
           "type": "scatter",
           "x": [
            0,
            1,
            2,
            3,
            4,
            5,
            6,
            7,
            8,
            9,
            10
           ],
           "y": [
            7,
            6,
            6,
            5,
            4,
            4,
            3,
            2,
            2,
            0,
            -2
           ]
          },
          {
           "mode": "markers",
           "name": "T = 20",
           "type": "scatter",
           "x": [
            0,
            1,
            2,
            3,
            4,
            5,
            6,
            7,
            8,
            9,
            10,
            11,
            12,
            13,
            14,
            15,
            16,
            17,
            18,
            19,
            20
           ],
           "y": [
            12,
            12,
            11,
            11,
            10,
            10,
            9,
            8,
            8,
            7,
            7,
            6,
            6,
            5,
            4,
            4,
            3,
            2,
            2,
            0,
            -2
           ]
          }
         ],
         "name": "Alpha 0.5"
        }
       ],
       "layout": {
        "sliders": [
         {
          "steps": [
           {
            "args": [
             [
              "Alpha 0.1"
             ],
             {
              "frame": {
               "duration": 300,
               "redraw": true
              },
              "mode": "immediate"
             }
            ],
            "label": "Alpha 0.1",
            "method": "animate"
           },
           {
            "args": [
             [
              "Alpha 0.2"
             ],
             {
              "frame": {
               "duration": 300,
               "redraw": true
              },
              "mode": "immediate"
             }
            ],
            "label": "Alpha 0.2",
            "method": "animate"
           },
           {
            "args": [
             [
              "Alpha 0.3"
             ],
             {
              "frame": {
               "duration": 300,
               "redraw": true
              },
              "mode": "immediate"
             }
            ],
            "label": "Alpha 0.3",
            "method": "animate"
           },
           {
            "args": [
             [
              "Alpha 0.4"
             ],
             {
              "frame": {
               "duration": 300,
               "redraw": true
              },
              "mode": "immediate"
             }
            ],
            "label": "Alpha 0.4",
            "method": "animate"
           },
           {
            "args": [
             [
              "Alpha 0.5"
             ],
             {
              "frame": {
               "duration": 300,
               "redraw": true
              },
              "mode": "immediate"
             }
            ],
            "label": "Alpha 0.5",
            "method": "animate"
           }
          ],
          "transition": {
           "duration": 300
          }
         }
        ],
        "template": {
         "data": {
          "bar": [
           {
            "error_x": {
             "color": "#2a3f5f"
            },
            "error_y": {
             "color": "#2a3f5f"
            },
            "marker": {
             "line": {
              "color": "#E5ECF6",
              "width": 0.5
             },
             "pattern": {
              "fillmode": "overlay",
              "size": 10,
              "solidity": 0.2
             }
            },
            "type": "bar"
           }
          ],
          "barpolar": [
           {
            "marker": {
             "line": {
              "color": "#E5ECF6",
              "width": 0.5
             },
             "pattern": {
              "fillmode": "overlay",
              "size": 10,
              "solidity": 0.2
             }
            },
            "type": "barpolar"
           }
          ],
          "carpet": [
           {
            "aaxis": {
             "endlinecolor": "#2a3f5f",
             "gridcolor": "white",
             "linecolor": "white",
             "minorgridcolor": "white",
             "startlinecolor": "#2a3f5f"
            },
            "baxis": {
             "endlinecolor": "#2a3f5f",
             "gridcolor": "white",
             "linecolor": "white",
             "minorgridcolor": "white",
             "startlinecolor": "#2a3f5f"
            },
            "type": "carpet"
           }
          ],
          "choropleth": [
           {
            "colorbar": {
             "outlinewidth": 0,
             "ticks": ""
            },
            "type": "choropleth"
           }
          ],
          "contour": [
           {
            "colorbar": {
             "outlinewidth": 0,
             "ticks": ""
            },
            "colorscale": [
             [
              0,
              "#0d0887"
             ],
             [
              0.1111111111111111,
              "#46039f"
             ],
             [
              0.2222222222222222,
              "#7201a8"
             ],
             [
              0.3333333333333333,
              "#9c179e"
             ],
             [
              0.4444444444444444,
              "#bd3786"
             ],
             [
              0.5555555555555556,
              "#d8576b"
             ],
             [
              0.6666666666666666,
              "#ed7953"
             ],
             [
              0.7777777777777778,
              "#fb9f3a"
             ],
             [
              0.8888888888888888,
              "#fdca26"
             ],
             [
              1,
              "#f0f921"
             ]
            ],
            "type": "contour"
           }
          ],
          "contourcarpet": [
           {
            "colorbar": {
             "outlinewidth": 0,
             "ticks": ""
            },
            "type": "contourcarpet"
           }
          ],
          "heatmap": [
           {
            "colorbar": {
             "outlinewidth": 0,
             "ticks": ""
            },
            "colorscale": [
             [
              0,
              "#0d0887"
             ],
             [
              0.1111111111111111,
              "#46039f"
             ],
             [
              0.2222222222222222,
              "#7201a8"
             ],
             [
              0.3333333333333333,
              "#9c179e"
             ],
             [
              0.4444444444444444,
              "#bd3786"
             ],
             [
              0.5555555555555556,
              "#d8576b"
             ],
             [
              0.6666666666666666,
              "#ed7953"
             ],
             [
              0.7777777777777778,
              "#fb9f3a"
             ],
             [
              0.8888888888888888,
              "#fdca26"
             ],
             [
              1,
              "#f0f921"
             ]
            ],
            "type": "heatmap"
           }
          ],
          "heatmapgl": [
           {
            "colorbar": {
             "outlinewidth": 0,
             "ticks": ""
            },
            "colorscale": [
             [
              0,
              "#0d0887"
             ],
             [
              0.1111111111111111,
              "#46039f"
             ],
             [
              0.2222222222222222,
              "#7201a8"
             ],
             [
              0.3333333333333333,
              "#9c179e"
             ],
             [
              0.4444444444444444,
              "#bd3786"
             ],
             [
              0.5555555555555556,
              "#d8576b"
             ],
             [
              0.6666666666666666,
              "#ed7953"
             ],
             [
              0.7777777777777778,
              "#fb9f3a"
             ],
             [
              0.8888888888888888,
              "#fdca26"
             ],
             [
              1,
              "#f0f921"
             ]
            ],
            "type": "heatmapgl"
           }
          ],
          "histogram": [
           {
            "marker": {
             "pattern": {
              "fillmode": "overlay",
              "size": 10,
              "solidity": 0.2
             }
            },
            "type": "histogram"
           }
          ],
          "histogram2d": [
           {
            "colorbar": {
             "outlinewidth": 0,
             "ticks": ""
            },
            "colorscale": [
             [
              0,
              "#0d0887"
             ],
             [
              0.1111111111111111,
              "#46039f"
             ],
             [
              0.2222222222222222,
              "#7201a8"
             ],
             [
              0.3333333333333333,
              "#9c179e"
             ],
             [
              0.4444444444444444,
              "#bd3786"
             ],
             [
              0.5555555555555556,
              "#d8576b"
             ],
             [
              0.6666666666666666,
              "#ed7953"
             ],
             [
              0.7777777777777778,
              "#fb9f3a"
             ],
             [
              0.8888888888888888,
              "#fdca26"
             ],
             [
              1,
              "#f0f921"
             ]
            ],
            "type": "histogram2d"
           }
          ],
          "histogram2dcontour": [
           {
            "colorbar": {
             "outlinewidth": 0,
             "ticks": ""
            },
            "colorscale": [
             [
              0,
              "#0d0887"
             ],
             [
              0.1111111111111111,
              "#46039f"
             ],
             [
              0.2222222222222222,
              "#7201a8"
             ],
             [
              0.3333333333333333,
              "#9c179e"
             ],
             [
              0.4444444444444444,
              "#bd3786"
             ],
             [
              0.5555555555555556,
              "#d8576b"
             ],
             [
              0.6666666666666666,
              "#ed7953"
             ],
             [
              0.7777777777777778,
              "#fb9f3a"
             ],
             [
              0.8888888888888888,
              "#fdca26"
             ],
             [
              1,
              "#f0f921"
             ]
            ],
            "type": "histogram2dcontour"
           }
          ],
          "mesh3d": [
           {
            "colorbar": {
             "outlinewidth": 0,
             "ticks": ""
            },
            "type": "mesh3d"
           }
          ],
          "parcoords": [
           {
            "line": {
             "colorbar": {
              "outlinewidth": 0,
              "ticks": ""
             }
            },
            "type": "parcoords"
           }
          ],
          "pie": [
           {
            "automargin": true,
            "type": "pie"
           }
          ],
          "scatter": [
           {
            "fillpattern": {
             "fillmode": "overlay",
             "size": 10,
             "solidity": 0.2
            },
            "type": "scatter"
           }
          ],
          "scatter3d": [
           {
            "line": {
             "colorbar": {
              "outlinewidth": 0,
              "ticks": ""
             }
            },
            "marker": {
             "colorbar": {
              "outlinewidth": 0,
              "ticks": ""
             }
            },
            "type": "scatter3d"
           }
          ],
          "scattercarpet": [
           {
            "marker": {
             "colorbar": {
              "outlinewidth": 0,
              "ticks": ""
             }
            },
            "type": "scattercarpet"
           }
          ],
          "scattergeo": [
           {
            "marker": {
             "colorbar": {
              "outlinewidth": 0,
              "ticks": ""
             }
            },
            "type": "scattergeo"
           }
          ],
          "scattergl": [
           {
            "marker": {
             "colorbar": {
              "outlinewidth": 0,
              "ticks": ""
             }
            },
            "type": "scattergl"
           }
          ],
          "scattermapbox": [
           {
            "marker": {
             "colorbar": {
              "outlinewidth": 0,
              "ticks": ""
             }
            },
            "type": "scattermapbox"
           }
          ],
          "scatterpolar": [
           {
            "marker": {
             "colorbar": {
              "outlinewidth": 0,
              "ticks": ""
             }
            },
            "type": "scatterpolar"
           }
          ],
          "scatterpolargl": [
           {
            "marker": {
             "colorbar": {
              "outlinewidth": 0,
              "ticks": ""
             }
            },
            "type": "scatterpolargl"
           }
          ],
          "scatterternary": [
           {
            "marker": {
             "colorbar": {
              "outlinewidth": 0,
              "ticks": ""
             }
            },
            "type": "scatterternary"
           }
          ],
          "surface": [
           {
            "colorbar": {
             "outlinewidth": 0,
             "ticks": ""
            },
            "colorscale": [
             [
              0,
              "#0d0887"
             ],
             [
              0.1111111111111111,
              "#46039f"
             ],
             [
              0.2222222222222222,
              "#7201a8"
             ],
             [
              0.3333333333333333,
              "#9c179e"
             ],
             [
              0.4444444444444444,
              "#bd3786"
             ],
             [
              0.5555555555555556,
              "#d8576b"
             ],
             [
              0.6666666666666666,
              "#ed7953"
             ],
             [
              0.7777777777777778,
              "#fb9f3a"
             ],
             [
              0.8888888888888888,
              "#fdca26"
             ],
             [
              1,
              "#f0f921"
             ]
            ],
            "type": "surface"
           }
          ],
          "table": [
           {
            "cells": {
             "fill": {
              "color": "#EBF0F8"
             },
             "line": {
              "color": "white"
             }
            },
            "header": {
             "fill": {
              "color": "#C8D4E3"
             },
             "line": {
              "color": "white"
             }
            },
            "type": "table"
           }
          ]
         },
         "layout": {
          "annotationdefaults": {
           "arrowcolor": "#2a3f5f",
           "arrowhead": 0,
           "arrowwidth": 1
          },
          "autotypenumbers": "strict",
          "coloraxis": {
           "colorbar": {
            "outlinewidth": 0,
            "ticks": ""
           }
          },
          "colorscale": {
           "diverging": [
            [
             0,
             "#8e0152"
            ],
            [
             0.1,
             "#c51b7d"
            ],
            [
             0.2,
             "#de77ae"
            ],
            [
             0.3,
             "#f1b6da"
            ],
            [
             0.4,
             "#fde0ef"
            ],
            [
             0.5,
             "#f7f7f7"
            ],
            [
             0.6,
             "#e6f5d0"
            ],
            [
             0.7,
             "#b8e186"
            ],
            [
             0.8,
             "#7fbc41"
            ],
            [
             0.9,
             "#4d9221"
            ],
            [
             1,
             "#276419"
            ]
           ],
           "sequential": [
            [
             0,
             "#0d0887"
            ],
            [
             0.1111111111111111,
             "#46039f"
            ],
            [
             0.2222222222222222,
             "#7201a8"
            ],
            [
             0.3333333333333333,
             "#9c179e"
            ],
            [
             0.4444444444444444,
             "#bd3786"
            ],
            [
             0.5555555555555556,
             "#d8576b"
            ],
            [
             0.6666666666666666,
             "#ed7953"
            ],
            [
             0.7777777777777778,
             "#fb9f3a"
            ],
            [
             0.8888888888888888,
             "#fdca26"
            ],
            [
             1,
             "#f0f921"
            ]
           ],
           "sequentialminus": [
            [
             0,
             "#0d0887"
            ],
            [
             0.1111111111111111,
             "#46039f"
            ],
            [
             0.2222222222222222,
             "#7201a8"
            ],
            [
             0.3333333333333333,
             "#9c179e"
            ],
            [
             0.4444444444444444,
             "#bd3786"
            ],
            [
             0.5555555555555556,
             "#d8576b"
            ],
            [
             0.6666666666666666,
             "#ed7953"
            ],
            [
             0.7777777777777778,
             "#fb9f3a"
            ],
            [
             0.8888888888888888,
             "#fdca26"
            ],
            [
             1,
             "#f0f921"
            ]
           ]
          },
          "colorway": [
           "#636efa",
           "#EF553B",
           "#00cc96",
           "#ab63fa",
           "#FFA15A",
           "#19d3f3",
           "#FF6692",
           "#B6E880",
           "#FF97FF",
           "#FECB52"
          ],
          "font": {
           "color": "#2a3f5f"
          },
          "geo": {
           "bgcolor": "white",
           "lakecolor": "white",
           "landcolor": "#E5ECF6",
           "showlakes": true,
           "showland": true,
           "subunitcolor": "white"
          },
          "hoverlabel": {
           "align": "left"
          },
          "hovermode": "closest",
          "mapbox": {
           "style": "light"
          },
          "paper_bgcolor": "white",
          "plot_bgcolor": "#E5ECF6",
          "polar": {
           "angularaxis": {
            "gridcolor": "white",
            "linecolor": "white",
            "ticks": ""
           },
           "bgcolor": "#E5ECF6",
           "radialaxis": {
            "gridcolor": "white",
            "linecolor": "white",
            "ticks": ""
           }
          },
          "scene": {
           "xaxis": {
            "backgroundcolor": "#E5ECF6",
            "gridcolor": "white",
            "gridwidth": 2,
            "linecolor": "white",
            "showbackground": true,
            "ticks": "",
            "zerolinecolor": "white"
           },
           "yaxis": {
            "backgroundcolor": "#E5ECF6",
            "gridcolor": "white",
            "gridwidth": 2,
            "linecolor": "white",
            "showbackground": true,
            "ticks": "",
            "zerolinecolor": "white"
           },
           "zaxis": {
            "backgroundcolor": "#E5ECF6",
            "gridcolor": "white",
            "gridwidth": 2,
            "linecolor": "white",
            "showbackground": true,
            "ticks": "",
            "zerolinecolor": "white"
           }
          },
          "shapedefaults": {
           "line": {
            "color": "#2a3f5f"
           }
          },
          "ternary": {
           "aaxis": {
            "gridcolor": "white",
            "linecolor": "white",
            "ticks": ""
           },
           "baxis": {
            "gridcolor": "white",
            "linecolor": "white",
            "ticks": ""
           },
           "bgcolor": "#E5ECF6",
           "caxis": {
            "gridcolor": "white",
            "linecolor": "white",
            "ticks": ""
           }
          },
          "title": {
           "x": 0.05
          },
          "xaxis": {
           "automargin": true,
           "gridcolor": "white",
           "linecolor": "white",
           "ticks": "",
           "title": {
            "standoff": 15
           },
           "zerolinecolor": "white",
           "zerolinewidth": 2
          },
          "yaxis": {
           "automargin": true,
           "gridcolor": "white",
           "linecolor": "white",
           "ticks": "",
           "title": {
            "standoff": 15
           },
           "zerolinecolor": "white",
           "zerolinewidth": 2
          }
         }
        },
        "title": {
         "text": "Changes by Time with Alpha Slider and cost = 5"
        },
        "updatemenus": [
         {
          "buttons": [
           {
            "args": [
             null,
             {
              "frame": {
               "duration": 500,
               "redraw": true
              },
              "fromcurrent": true,
              "mode": "immediate"
             }
            ],
            "label": "Play",
            "method": "animate"
           },
           {
            "args": [
             [
              null
             ],
             {
              "frame": {
               "duration": 0,
               "redraw": false
              },
              "mode": "immediate"
             }
            ],
            "label": "Pause",
            "method": "animate"
           }
          ],
          "showactive": false,
          "type": "buttons"
         }
        ],
        "xaxis": {
         "dtick": 10,
         "linecolor": "black",
         "linewidth": 1,
         "mirror": true,
         "showline": true,
         "title": {
          "text": "Time"
         }
        },
        "yaxis": {
         "dtick": 10,
         "linecolor": "black",
         "linewidth": 1,
         "mirror": true,
         "range": [
          -50,
          60
         ],
         "showline": true,
         "title": {
          "text": "Value of Change"
         }
        }
       }
      }
     },
     "metadata": {},
     "output_type": "display_data"
    }
   ],
   "source": [
    "# Create the figura with the frames and the slider\n",
    "fig = go.Figure(\n",
    "    data=frames[0].data,\n",
    "    layout=go.Layout(\n",
    "        title='Changes by Time with Alpha Slider and cost = 5',\n",
    "        xaxis=dict(title='Time'),\n",
    "        yaxis=dict(title='Value of Change'),\n",
    "        yaxis_range=[-50, 60],\n",
    "        updatemenus=[dict(\n",
    "            type=\"buttons\",\n",
    "            showactive=False,\n",
    "            buttons=[dict(label=\"Play\",\n",
    "                          method=\"animate\",\n",
    "                          args=[None, dict(frame=dict(duration=500, redraw=True), fromcurrent=True, mode=\"immediate\")]),\n",
    "                     dict(label=\"Pause\",\n",
    "                          method=\"animate\",\n",
    "                          args=[[None], dict(frame=dict(duration=0, redraw=False), mode=\"immediate\")])]\n",
    "        )]\n",
    "    ),\n",
    "    frames=frames\n",
    ")\n",
    "\n",
    "# Configure the sliders\n",
    "fig.update_xaxes(showline=True, linewidth=1, linecolor='black', mirror=True)\n",
    "fig.update_yaxes(showline=True, linewidth=1, linecolor='black', mirror=True)\n",
    "fig.update_layout(\n",
    "    yaxis=dict(dtick=10),\n",
    "    xaxis=dict(dtick=10),\n",
    "    sliders=[{\n",
    "        'steps': [{'args': [[f.name], {'frame': {'duration': 300, 'redraw': True}, 'mode': 'immediate'}],\n",
    "                   'label': f'{f.name}',\n",
    "                   'method': 'animate'} for f in frames],\n",
    "        'transition': {'duration': 300},\n",
    "    }]\n",
    ")\n",
    "fig.show()"
   ]
  },
  {
   "cell_type": "markdown",
   "metadata": {},
   "source": [
    "## Exploit/Explore Model"
   ]
  },
  {
   "cell_type": "code",
   "execution_count": 137,
   "metadata": {},
   "outputs": [],
   "source": [
    "class EEModel(Model):\n",
    "    def __init__ (self, lo, hi, U, alpha, H):\n",
    "        \"\"\"\n",
    "            q0(x, u), q1(x, u)\n",
    "            c0(x, u), c1(x)\n",
    "        \"\"\"\n",
    "        self.H = H\n",
    "        self.n = 2 ** (H+1) - 1\n",
    "        print(f'self.n: {self.n}')\n",
    "        super().__init__(lo, hi, U, alpha)\n",
    "\n",
    "    def construct_graph(self):\n",
    "        \"\"\"\n",
    "            customize graph structure here\n",
    "        \"\"\"\n",
    "        def add_children(idx):\n",
    "            if self.nodes[idx].h == self.H:\n",
    "                return\n",
    "            up_idx = 2 * idx + 1\n",
    "            down_idx = 2 * idx + 2\n",
    "            self.draw_edge(idx, up_idx)\n",
    "            self.draw_edge(idx, down_idx)\n",
    "            self.nodes[up_idx].h = self.nodes[idx].h + 1\n",
    "            self.nodes[down_idx].h = self.nodes[idx].h + 1\n",
    "            self.nodes[up_idx].name = self.nodes[idx].name + \"1\"\n",
    "            self.nodes[down_idx].name = self.nodes[idx].name + \"0\"\n",
    "            add_children(up_idx)\n",
    "            add_children(down_idx)\n",
    "\n",
    "        self.root.h = 0\n",
    "        self.root.name = \"0\"\n",
    "        add_children(0)\n",
    "    \n",
    "    def construct_risks(self):\n",
    "        \"\"\"\n",
    "            set Q, c, and one_step for each node\n",
    "            u == 0: full exploit\n",
    "            u == 1: full explore\n",
    "        \"\"\"\n",
    "        \n",
    "        def d_explore_exploit(s):\n",
    "            last_zero_idx = -1\n",
    "            last_one_idx = -1\n",
    "            if '0' in s:\n",
    "                last_zero_idx = s[::-1].index('0')\n",
    "            if '1' in s:\n",
    "                last_one_idx = s[::-1].index('1')\n",
    "            \n",
    "            return last_zero_idx, last_one_idx\n",
    "\n",
    "        def q(name, x, u):\n",
    "            \"\"\"\n",
    "                Takes in name of self, with x as state of parent, u as action on parent\n",
    "            \"\"\"\n",
    "            d_exploit, d_explore = d_explore_exploit(name)\n",
    "            is_explore = int(name[-1])\n",
    "            if is_explore:\n",
    "                # current node is exploring node\n",
    "                if u == 0:\n",
    "                    return {\n",
    "                        0: 1\n",
    "                    }\n",
    "                if u == 5:\n",
    "                    return {\n",
    "                        d_explore: 0.2,\n",
    "                        2 * d_explore: 0.4,\n",
    "                        3 * d_explore: 0.4\n",
    "                    }\n",
    "                if u == 10:\n",
    "                    return {\n",
    "                        d_explore: 0.2,\n",
    "                        2 * d_explore: 0.2,\n",
    "                        6 * d_explore: 0.6,\n",
    "                    }\n",
    "            else:\n",
    "                # current node is exploiting node\n",
    "                if u == 0:\n",
    "                    return {\n",
    "                        x + max(0, 10 - d_exploit): 0.4,\n",
    "                        x + max(0, 10 - 2 * d_exploit): 0.6\n",
    "                    }\n",
    "                if u == 5:\n",
    "                    return {\n",
    "                        x + 20: 0.4,\n",
    "                        x + 20: 0.6,\n",
    "                    }\n",
    "                if u == 10:\n",
    "                    return {\n",
    "                        x + max(0, 10 - 6 * d_exploit): 0.4,\n",
    "                        x + max(0, 10 - 8 * d_exploit): 0.6\n",
    "                    }\n",
    "\n",
    "        def c(x, u):\n",
    "            # d_exploit, d_explore = d_explore_exploit(name)\n",
    "            # is_explore = int(name[-1])\n",
    "            if u == 0:\n",
    "                return 0\n",
    "            if u == 5:\n",
    "                return 2.5\n",
    "            if u == 10:\n",
    "                return 5\n",
    "        \n",
    "        def c_term(x):\n",
    "            return  3 * np.exp((1-x/self.hi))\n",
    "        \n",
    "        for node in self.nodes:\n",
    "            node.isExplore = node.id % 2\n",
    "            \n",
    "            node.cost = {u : {x : c(x, u) for x in self.X} for u in self.U}                \n",
    "            node.Q = {u : {x : self.bound(q(node.name, x, u)) for x in self.X} for u in self.U}\n",
    "\n",
    "            if node.terminal:\n",
    "                node.cost = {x : c_term(x) for x in self.X}\n",
    "            #!customize one step here\n",
    "            node.one_step = lambda list_qw : sum_of_AVAR(list_qw, self.alpha)"
   ]
  },
  {
   "cell_type": "code",
   "execution_count": 138,
   "metadata": {},
   "outputs": [
    {
     "name": "stdout",
     "output_type": "stream",
     "text": [
      "self.n: 511\n"
     ]
    }
   ],
   "source": [
    "eemodel = EEModel(0, 50, [0, 5, 10], 0.4, 8)"
   ]
  },
  {
   "cell_type": "code",
   "execution_count": 139,
   "metadata": {},
   "outputs": [],
   "source": [
    "eemodel.root.calc_policy()"
   ]
  },
  {
   "cell_type": "code",
   "execution_count": 140,
   "metadata": {},
   "outputs": [],
   "source": [
    "def turning_points(d):\n",
    "    last0 = -1\n",
    "    last5 = -1\n",
    "    for k, v in d.items():\n",
    "        if v == 0:\n",
    "            last0 = k\n",
    "        if v == 5:\n",
    "            last5 = k\n",
    "    return last0, last5"
   ]
  },
  {
   "cell_type": "code",
   "execution_count": 141,
   "metadata": {},
   "outputs": [
    {
     "name": "stdout",
     "output_type": "stream",
     "text": [
      "0, (50, -1))\n",
      "    01, (50, -1))\n",
      "        011, (50, -1))\n",
      "            0111, (50, -1))\n",
      "                01111, (50, -1))\n",
      "                    011111, (50, -1))\n",
      "                        0111111, (50, -1))\n",
      "                            01111111, (50, -1))\n",
      "                            01111110, (50, -1))\n",
      "                        0111110, (50, -1))\n",
      "                            01111101, (50, -1))\n",
      "                            01111100, (50, -1))\n",
      "                    011110, (50, -1))\n",
      "                        0111101, (50, -1))\n",
      "                            01111011, (50, -1))\n",
      "                            01111010, (50, -1))\n",
      "                        0111100, (50, -1))\n",
      "                            01111001, (50, -1))\n",
      "                            01111000, (50, -1))\n",
      "                01110, (50, -1))\n",
      "                    011101, (50, -1))\n",
      "                        0111011, (50, -1))\n",
      "                            01110111, (50, -1))\n",
      "                            01110110, (50, -1))\n",
      "                        0111010, (50, -1))\n",
      "                            01110101, (50, -1))\n",
      "                            01110100, (50, -1))\n",
      "                    011100, (50, -1))\n",
      "                        0111001, (50, -1))\n",
      "                            01110011, (50, -1))\n",
      "                            01110010, (50, -1))\n",
      "                        0111000, (50, -1))\n",
      "                            01110001, (50, -1))\n",
      "                            01110000, (50, -1))\n",
      "            0110, (50, -1))\n",
      "                01101, (50, -1))\n",
      "                    011011, (50, -1))\n",
      "                        0110111, (50, -1))\n",
      "                            01101111, (50, -1))\n",
      "                            01101110, (50, -1))\n",
      "                        0110110, (50, -1))\n",
      "                            01101101, (50, -1))\n",
      "                            01101100, (50, -1))\n",
      "                    011010, (50, -1))\n",
      "                        0110101, (50, -1))\n",
      "                            01101011, (50, -1))\n",
      "                            01101010, (50, -1))\n",
      "                        0110100, (50, -1))\n",
      "                            01101001, (50, -1))\n",
      "                            01101000, (50, -1))\n",
      "                01100, (50, -1))\n",
      "                    011001, (50, -1))\n",
      "                        0110011, (50, -1))\n",
      "                            01100111, (50, -1))\n",
      "                            01100110, (50, -1))\n",
      "                        0110010, (50, -1))\n",
      "                            01100101, (50, -1))\n",
      "                            01100100, (50, -1))\n",
      "                    011000, (50, -1))\n",
      "                        0110001, (50, -1))\n",
      "                            01100011, (50, -1))\n",
      "                            01100010, (50, -1))\n",
      "                        0110000, (50, -1))\n",
      "                            01100001, (50, -1))\n",
      "                            01100000, (50, -1))\n",
      "        010, (50, -1))\n",
      "            0101, (50, -1))\n",
      "                01011, (50, -1))\n",
      "                    010111, (50, -1))\n",
      "                        0101111, (50, -1))\n",
      "                            01011111, (50, -1))\n",
      "                            01011110, (50, -1))\n",
      "                        0101110, (50, -1))\n",
      "                            01011101, (50, -1))\n",
      "                            01011100, (50, -1))\n",
      "                    010110, (50, -1))\n",
      "                        0101101, (50, -1))\n",
      "                            01011011, (50, -1))\n",
      "                            01011010, (50, -1))\n",
      "                        0101100, (50, -1))\n",
      "                            01011001, (50, -1))\n",
      "                            01011000, (50, -1))\n",
      "                01010, (50, -1))\n",
      "                    010101, (50, -1))\n",
      "                        0101011, (50, -1))\n",
      "                            01010111, (50, -1))\n",
      "                            01010110, (50, -1))\n",
      "                        0101010, (50, -1))\n",
      "                            01010101, (50, -1))\n",
      "                            01010100, (50, -1))\n",
      "                    010100, (50, -1))\n",
      "                        0101001, (50, -1))\n",
      "                            01010011, (50, -1))\n",
      "                            01010010, (50, -1))\n",
      "                        0101000, (50, -1))\n",
      "                            01010001, (50, -1))\n",
      "                            01010000, (50, -1))\n",
      "            0100, (50, -1))\n",
      "                01001, (50, -1))\n",
      "                    010011, (50, -1))\n",
      "                        0100111, (50, -1))\n",
      "                            01001111, (50, -1))\n",
      "                            01001110, (50, -1))\n",
      "                        0100110, (50, -1))\n",
      "                            01001101, (50, -1))\n",
      "                            01001100, (50, -1))\n",
      "                    010010, (50, -1))\n",
      "                        0100101, (50, -1))\n",
      "                            01001011, (50, -1))\n",
      "                            01001010, (50, -1))\n",
      "                        0100100, (50, -1))\n",
      "                            01001001, (50, -1))\n",
      "                            01001000, (50, -1))\n",
      "                01000, (50, -1))\n",
      "                    010001, (50, -1))\n",
      "                        0100011, (50, -1))\n",
      "                            01000111, (50, -1))\n",
      "                            01000110, (50, -1))\n",
      "                        0100010, (50, -1))\n",
      "                            01000101, (50, -1))\n",
      "                            01000100, (50, -1))\n",
      "                    010000, (50, -1))\n",
      "                        0100001, (50, -1))\n",
      "                            01000011, (50, -1))\n",
      "                            01000010, (50, -1))\n",
      "                        0100000, (50, -1))\n",
      "                            01000001, (50, -1))\n",
      "                            01000000, (50, -1))\n",
      "    00, (50, -1))\n",
      "        001, (50, -1))\n",
      "            0011, (50, -1))\n",
      "                00111, (50, -1))\n",
      "                    001111, (50, -1))\n",
      "                        0011111, (50, -1))\n",
      "                            00111111, (50, -1))\n",
      "                            00111110, (50, -1))\n",
      "                        0011110, (50, -1))\n",
      "                            00111101, (50, -1))\n",
      "                            00111100, (50, -1))\n",
      "                    001110, (50, -1))\n",
      "                        0011101, (50, -1))\n",
      "                            00111011, (50, -1))\n",
      "                            00111010, (50, -1))\n",
      "                        0011100, (50, -1))\n",
      "                            00111001, (50, -1))\n",
      "                            00111000, (50, -1))\n",
      "                00110, (50, -1))\n",
      "                    001101, (50, -1))\n",
      "                        0011011, (50, -1))\n",
      "                            00110111, (50, -1))\n",
      "                            00110110, (50, -1))\n",
      "                        0011010, (50, -1))\n",
      "                            00110101, (50, -1))\n",
      "                            00110100, (50, -1))\n",
      "                    001100, (50, -1))\n",
      "                        0011001, (50, -1))\n",
      "                            00110011, (50, -1))\n",
      "                            00110010, (50, -1))\n",
      "                        0011000, (50, -1))\n",
      "                            00110001, (50, -1))\n",
      "                            00110000, (50, -1))\n",
      "            0010, (50, -1))\n",
      "                00101, (50, -1))\n",
      "                    001011, (50, -1))\n",
      "                        0010111, (50, -1))\n",
      "                            00101111, (50, -1))\n",
      "                            00101110, (50, -1))\n",
      "                        0010110, (50, -1))\n",
      "                            00101101, (50, -1))\n",
      "                            00101100, (50, -1))\n",
      "                    001010, (50, -1))\n",
      "                        0010101, (50, -1))\n",
      "                            00101011, (50, -1))\n",
      "                            00101010, (50, -1))\n",
      "                        0010100, (50, -1))\n",
      "                            00101001, (50, -1))\n",
      "                            00101000, (50, -1))\n",
      "                00100, (50, -1))\n",
      "                    001001, (50, -1))\n",
      "                        0010011, (50, -1))\n",
      "                            00100111, (50, -1))\n",
      "                            00100110, (50, -1))\n",
      "                        0010010, (50, -1))\n",
      "                            00100101, (50, -1))\n",
      "                            00100100, (50, -1))\n",
      "                    001000, (50, -1))\n",
      "                        0010001, (50, -1))\n",
      "                            00100011, (50, -1))\n",
      "                            00100010, (50, -1))\n",
      "                        0010000, (50, -1))\n",
      "                            00100001, (50, -1))\n",
      "                            00100000, (50, -1))\n",
      "        000, (50, -1))\n",
      "            0001, (50, -1))\n",
      "                00011, (50, -1))\n",
      "                    000111, (50, -1))\n",
      "                        0001111, (50, -1))\n",
      "                            00011111, (50, -1))\n",
      "                            00011110, (50, -1))\n",
      "                        0001110, (50, -1))\n",
      "                            00011101, (50, -1))\n",
      "                            00011100, (50, -1))\n",
      "                    000110, (50, -1))\n",
      "                        0001101, (50, -1))\n",
      "                            00011011, (50, -1))\n",
      "                            00011010, (50, -1))\n",
      "                        0001100, (50, -1))\n",
      "                            00011001, (50, -1))\n",
      "                            00011000, (50, -1))\n",
      "                00010, (50, -1))\n",
      "                    000101, (50, -1))\n",
      "                        0001011, (50, -1))\n",
      "                            00010111, (50, -1))\n",
      "                            00010110, (50, -1))\n",
      "                        0001010, (50, -1))\n",
      "                            00010101, (50, -1))\n",
      "                            00010100, (50, -1))\n",
      "                    000100, (50, -1))\n",
      "                        0001001, (50, -1))\n",
      "                            00010011, (50, -1))\n",
      "                            00010010, (50, -1))\n",
      "                        0001000, (50, -1))\n",
      "                            00010001, (50, -1))\n",
      "                            00010000, (50, -1))\n",
      "            0000, (50, -1))\n",
      "                00001, (50, -1))\n",
      "                    000011, (50, -1))\n",
      "                        0000111, (50, -1))\n",
      "                            00001111, (50, -1))\n",
      "                            00001110, (50, -1))\n",
      "                        0000110, (50, -1))\n",
      "                            00001101, (50, -1))\n",
      "                            00001100, (50, -1))\n",
      "                    000010, (50, -1))\n",
      "                        0000101, (50, -1))\n",
      "                            00001011, (50, -1))\n",
      "                            00001010, (50, -1))\n",
      "                        0000100, (50, -1))\n",
      "                            00001001, (50, -1))\n",
      "                            00001000, (50, -1))\n",
      "                00000, (50, -1))\n",
      "                    000001, (50, -1))\n",
      "                        0000011, (50, -1))\n",
      "                            00000111, (50, -1))\n",
      "                            00000110, (50, -1))\n",
      "                        0000010, (50, -1))\n",
      "                            00000101, (50, -1))\n",
      "                            00000100, (50, -1))\n",
      "                    000000, (50, -1))\n",
      "                        0000001, (50, -1))\n",
      "                            00000011, (50, -1))\n",
      "                            00000010, (50, -1))\n",
      "                        0000000, (50, -1))\n",
      "                            00000001, (50, -1))\n",
      "                            00000000, (50, -1))\n"
     ]
    }
   ],
   "source": [
    "def print_turning_points(node, level = 0):\n",
    "    print(\" \" * TAB_SIZE * level + f\"{node.name}, {turning_points(node.policy)})\")\n",
    "    for child in node.children:\n",
    "        if child.policy:\n",
    "            print_turning_points(child, level+1)\n",
    "\n",
    "print_turning_points(eemodel.root)"
   ]
  },
  {
   "cell_type": "code",
   "execution_count": 110,
   "metadata": {},
   "outputs": [
    {
     "data": {
      "text/plain": [
       "2"
      ]
     },
     "execution_count": 110,
     "metadata": {},
     "output_type": "execute_result"
    }
   ],
   "source": [
    "eemodel.nodes[133].cost[5][1]"
   ]
  },
  {
   "cell_type": "code",
   "execution_count": null,
   "metadata": {},
   "outputs": [],
   "source": []
  },
  {
   "cell_type": "markdown",
   "metadata": {},
   "source": [
    "## Disaster Relief Model"
   ]
  },
  {
   "cell_type": "code",
   "execution_count": 24,
   "metadata": {},
   "outputs": [],
   "source": [
    "class DRModel(Model):\n",
    "    def __init__ (self, lo, hi, U, alpha):\n",
    "        \"\"\"\n",
    "            q0(x, u), q1(x, u)\n",
    "            c0(x, u), c1(x)\n",
    "        \"\"\"\n",
    "        super().__init__(lo, hi, U, alpha)\n",
    "\n",
    "    def construct_graph(self):\n",
    "        \"\"\"\n",
    "            customize graph structure here\n",
    "        \"\"\"\n",
    "        adj_list = [(0, 1), (0, 2), (0, 3), (0, 4), (1, 5), (1, 6), (1, 7), (1, 8), (2, 9), (2, 10), (2, 11), (3, 12), (3, 13), (4, 14), (4, 15)]\n",
    "        for pa, ch in adj_list:\n",
    "            self.draw_edge(pa, ch)\n",
    "    \n",
    "    def construct_risks(self):\n",
    "        \"\"\"\n",
    "            set Q, c, and one_step for each node\n",
    "        \"\"\"\n",
    "        def q(pa_x, pa_u, ch_idx):\n",
    "            pct = pa_u[ch_idx]\n",
    "            val = floor(pa_x * pct /100)\n",
    "            return {\n",
    "                val: 0.9,\n",
    "                floor(val * 0.9): 0.1\n",
    "            }\n",
    "        \n",
    "        def c(x, u):\n",
    "            return x * max(u)\n",
    "\n",
    "        def c_term(x, necessary):\n",
    "            loss = max(necessary - x, 0)\n",
    "            return np.exp(loss)\n",
    "        \n",
    "        universal_cost = {u : {x: c(x, u) for x in self.X} for u in self.U}\n",
    "    \n",
    "        for node in self.nodes:\n",
    "            print(f'at node {node.id}')\n",
    "            if not node.terminal:\n",
    "                node.cost = universal_cost\n",
    "                node.one_step = lambda list_qw : sum_of_AVAR(list_qw, self.alpha)\n",
    "                for ch_idx, child in enumerate(node.children):\n",
    "                    print(f'setting for {child.id}')\n",
    "                    child.Q = {u: {x : self.bound(q(x, u, ch_idx)) for x in self.X} for u in self.U} \n",
    "                    print(f'done setting for {child.id}')\n",
    "            else:\n",
    "                node.cost = {x : c_term(x, node.id) for x in self.X}\n",
    "    # customized functions for this particular model"
   ]
  },
  {
   "cell_type": "code",
   "execution_count": 25,
   "metadata": {},
   "outputs": [
    {
     "name": "stdout",
     "output_type": "stream",
     "text": [
      "108\n"
     ]
    }
   ],
   "source": [
    "import itertools\n",
    "MAX_U = 20\n",
    "MAX_CH = 4\n",
    "tuples = list(itertools.combinations_with_replacement(range(MAX_U + 1), MAX_CH))\n",
    "U = [t for t in tuples if sum(t) == MAX_U]\n",
    "print(len(U))"
   ]
  },
  {
   "cell_type": "code",
   "execution_count": 26,
   "metadata": {},
   "outputs": [
    {
     "name": "stdout",
     "output_type": "stream",
     "text": [
      "at node 0\n",
      "setting for 1\n",
      "done setting for 1\n",
      "setting for 2\n",
      "done setting for 2\n",
      "setting for 3\n",
      "done setting for 3\n",
      "setting for 4\n",
      "done setting for 4\n",
      "at node 1\n",
      "setting for 5\n",
      "done setting for 5\n",
      "setting for 6\n",
      "done setting for 6\n",
      "setting for 7\n",
      "done setting for 7\n",
      "setting for 8\n",
      "done setting for 8\n",
      "at node 2\n",
      "setting for 9\n",
      "done setting for 9\n",
      "setting for 10\n",
      "done setting for 10\n",
      "setting for 11\n",
      "done setting for 11\n",
      "at node 3\n",
      "setting for 12\n",
      "done setting for 12\n",
      "setting for 13\n",
      "done setting for 13\n",
      "at node 4\n",
      "setting for 14\n",
      "done setting for 14\n",
      "setting for 15\n",
      "done setting for 15\n",
      "at node 5\n",
      "at node 6\n",
      "at node 7\n",
      "at node 8\n",
      "at node 9\n",
      "at node 10\n",
      "at node 11\n",
      "at node 12\n",
      "at node 13\n",
      "at node 14\n",
      "at node 15\n"
     ]
    }
   ],
   "source": [
    "drmodel = DRModel(0, 200, U, 0.3)"
   ]
  },
  {
   "cell_type": "code",
   "execution_count": 27,
   "metadata": {},
   "outputs": [],
   "source": [
    "drmodel.root.calc_policy()"
   ]
  },
  {
   "cell_type": "code",
   "execution_count": null,
   "metadata": {},
   "outputs": [
    {
     "name": "stdout",
     "output_type": "stream",
     "text": [
      "Policy is empty for node 5\n",
      "Policy is empty for node 6\n",
      "Policy is empty for node 7\n",
      "Policy is empty for node 8\n",
      "Policy is empty for node 9\n",
      "Policy is empty for node 10\n",
      "Policy is empty for node 11\n",
      "Policy is empty for node 12\n",
      "Policy is empty for node 13\n",
      "Policy is empty for node 14\n",
      "Policy is empty for node 15\n"
     ]
    }
   ],
   "source": [
    "import pickle\n",
    "import time\n",
    "current_time = time.strftime(\"%m%d-%H%M%S\")\n",
    "directory = f\"pickles/{current_time}\"\n",
    "for node in drmodel.nodes:\n",
    "    if node.policy:\n",
    "        policy_pickle = f\"{directory}/policy_{node.id}.pickle\"\n",
    "        with open(policy_pickle, \"wb\") as f:\n",
    "            pickle.dump(node.policy, f)\n",
    "    \n",
    "    if node.w:\n",
    "        w_pickle = f\"{directory}/w_{node.id}.pickle\"dd\n",
    "        with open(w_pickle, \"wb\") as f:\n",
    "            pickle.dump(node.w, f)"
   ]
  }
 ],
 "metadata": {
  "kernelspec": {
   "display_name": "Python 3",
   "language": "python",
   "name": "python3"
  },
  "language_info": {
   "codemirror_mode": {
    "name": "ipython",
    "version": 3
   },
   "file_extension": ".py",
   "mimetype": "text/x-python",
   "name": "python",
   "nbconvert_exporter": "python",
   "pygments_lexer": "ipython3",
   "version": "3.8.18"
  }
 },
 "nbformat": 4,
 "nbformat_minor": 2
}
