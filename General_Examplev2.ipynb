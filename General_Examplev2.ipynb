{
 "cells": [
  {
   "cell_type": "code",
   "execution_count": 1,
   "metadata": {},
   "outputs": [],
   "source": [
    "import numpy as np\n",
    "import collections\n",
    "\n",
    "# Definition of the states, accions y parameters\n",
    "alpha = 0.3 # 30%\n",
    "\n",
    "down = -5\n",
    "up = 5\n",
    "# State space\n",
    "X = [i for i in range (down, up+1)]\n",
    "\n",
    "# Control space \n",
    "U = [1, 0]\n",
    "\n",
    "# Latest time\n",
    "T = 3"
   ]
  },
  {
   "cell_type": "code",
   "execution_count": 2,
   "metadata": {},
   "outputs": [],
   "source": [
    "def AVAR(q, w, alpha):\n",
    "    # we recive w = w_{t+1}\n",
    "\n",
    "    # this is something like {w(1): 20%, w(): 60%}\n",
    "    eval = [(w[max(down, min(k, up))], q[k])  for k in q.keys()]\n",
    "    s = sorted(eval, reverse=True)\n",
    "    res = 0\n",
    "    i = 0\n",
    "    a = alpha\n",
    "    while(alpha > 0):\n",
    "        if alpha >= s[i][1]:\n",
    "            res += s[i][0]*s[i][1]\n",
    "            alpha -= s[i][1]\n",
    "        else:\n",
    "            res += s[i][0]*alpha\n",
    "            alpha = 0\n",
    "        i += 1\n",
    "    return res/a"
   ]
  },
  {
   "cell_type": "code",
   "execution_count": 3,
   "metadata": {},
   "outputs": [],
   "source": [
    "def precal_Q(X):\n",
    "    Q0 = dict()\n",
    "    Q1 = dict()\n",
    "    for x in X:\n",
    "        Q0[x] = dict()\n",
    "        Q0[x][0] = {x-1: 0.2, x-1: 0.2, x: 0.2, x+1: 0.2, x+2: 0.2}\n",
    "        Q0[x][1] = {x+1: 0.4, x+2: 0.2, x+3: 0.4}\n",
    "        \n",
    "        Q1[x] = dict()\n",
    "        Q1[x][0] = {x-1: 0.6, x: 0.2, x+1: 0.2}\n",
    "        Q1[x][1] = {x-1: 0.2, x: 0.4, x+1: 0.4}\n",
    "    return Q0,Q1\n",
    "\n",
    "Q_0, Q_1 = precal_Q(X)\n",
    "\n",
    "def Q0(x, u):\n",
    "    return Q_0[x][u]\n",
    "\n",
    "def Q1(x, u):\n",
    "    return Q_1[x][u]"
   ]
  },
  {
   "cell_type": "code",
   "execution_count": 4,
   "metadata": {},
   "outputs": [],
   "source": [
    "def cost0(x, a, t):\n",
    "    # x = state\n",
    "    # a = action of this node\n",
    "    if a == 0:\n",
    "        return 0\n",
    "    if a == 1:\n",
    "        return 1\n",
    "\n",
    "def cost1(x, a, t):\n",
    "    # x = state\n",
    "    # a = action of this node\n",
    "    return np.exp(-x) - t "
   ]
  },
  {
   "cell_type": "code",
   "execution_count": 5,
   "metadata": {},
   "outputs": [],
   "source": [
    "# Falta definir cost\n",
    "# Falta acabar de correrlo"
   ]
  },
  {
   "cell_type": "code",
   "execution_count": 6,
   "metadata": {},
   "outputs": [],
   "source": [
    "class Node:\n",
    "    def __init__(self, t, id, parent = None, Q = None, cost = None):\n",
    "        self.t = t # Time\n",
    "        self.id = id\n",
    "        self.parent = parent\n",
    "        self.Q = Q\n",
    "        self.cost = cost\n",
    "        self.w = dict() # cost\n",
    "        self.childs = []\n",
    "        self.policy = dict() # One for each of the posible states \n",
    "        self.terminal = True # If it is a terminal node\n",
    "        \n",
    "\n",
    "    def new_child(self, node):\n",
    "        self.childs.append(node)# Add the new child\n",
    "        node.parent = self\n",
    "        self.terminal = False \n",
    "\n",
    "    \n",
    "    def get_w(self):\n",
    "        if self.w.__len__() == 0:\n",
    "            # self.calc_w()\n",
    "            if self.terminal:\n",
    "                for x in X: \n",
    "                    self.w[x] = self.cost(x, 1, self.t) # Cost of terminal nodes in this case\n",
    "                    # This w is w_{t, s}\n",
    "            else:\n",
    "                self.calc_policy()\n",
    "        \n",
    "        return self.w\n",
    "\n",
    "\n",
    "    def calc_policy(self):\n",
    "        for x in X:\n",
    "            '''d = {u : \n",
    "                 self.cost(x, u, self.t) + sum([AVAR(self.Q(x, u), child.get_w(), alpha) for child in self.childs])\n",
    "                 for u in U}'''\n",
    "            self.policy[x] = min(U, key=lambda u: self.cost(x, u, self.t) + sum([AVAR(self.Q(x, u), child.get_w(), alpha) for child in self.childs]))\n",
    "            u = self.policy[x]\n",
    "            self.w[x] = self.cost(x, u, self.t) + sum([AVAR(self.Q(x, u), child.get_w(), alpha) for child in self.childs])\n",
    "            #self.w[x] = self.cost(x, u, self.t) + avar_of_sum([(self.Q(x, u), child.get_w(), alpha) for child in self.childs])\n",
    "\n",
    "    def print_tree(self, level = 0):\n",
    "        print(\" \" * 4 * level + f'{self.id}, x_{self.t, self.id % 2}')\n",
    "        for child in self.childs:\n",
    "            child.print_tree(level = level+1)\n",
    "            "
   ]
  },
  {
   "cell_type": "code",
   "execution_count": 7,
   "metadata": {},
   "outputs": [
    {
     "name": "stdout",
     "output_type": "stream",
     "text": [
      "7, x_(4, 1)\n",
      "[(0, 1), (0, 2), (2, 3), (2, 4), (4, 5), (4, 6), (6, 7)]\n"
     ]
    }
   ],
   "source": [
    "# Create tree\n",
    "#parent = root\n",
    "\n",
    "# ad_list is symilar to: [(0, 1), (0, 2), (1, 3), ...]\n",
    "# With the relation that if we have (0,1), then 0 is father of 1\n",
    "# To use this you have to have a node list and a list of which type they are\n",
    "def create_tree(nodes, ad_list):\n",
    "    root = nodes[0]\n",
    "    for i, ad in enumerate(ad_list):\n",
    "        nodes[ad[0]].new_child(nodes[ad[1]])\n",
    "    return root\n",
    "\n",
    "\n",
    "#adyacent list\n",
    "ad_list = []\n",
    "\n",
    "#The root\n",
    "root = Node(0, id=0)\n",
    "root.Q = Q0\n",
    "root.cost = cost0\n",
    "\n",
    "# List of nodes\n",
    "nodes = [root]\n",
    "\n",
    "# We create the adyacent list for this case\n",
    "for i in range(0, T):\n",
    "    new1 = Node(i+1, id=2*i+1, Q=Q1, cost=cost1)\n",
    "    new2 = Node(i+1, id=2*i+2, Q=Q0, cost=cost0)\n",
    "    nodes.append(new1)\n",
    "    nodes.append(new2)\n",
    "    ad_list.append((2*i, 2*i+1))\n",
    "    ad_list.append((2*i, 2*i+2))\n",
    "\n",
    "\n",
    "# Add the last node\n",
    "new = Node(T+1, id = 2*T+1, Q=Q1, cost=cost1)\n",
    "nodes.append(new)\n",
    "new.print_tree()\n",
    "l = len(ad_list)\n",
    "ad_list.append((l, l+1))\n",
    "\n",
    "\n",
    "print(ad_list)\n"
   ]
  },
  {
   "cell_type": "code",
   "execution_count": 8,
   "metadata": {},
   "outputs": [
    {
     "data": {
      "text/plain": [
       "<__main__.Node at 0x2069342e190>"
      ]
     },
     "execution_count": 8,
     "metadata": {},
     "output_type": "execute_result"
    }
   ],
   "source": [
    "create_tree(nodes, ad_list)"
   ]
  },
  {
   "cell_type": "code",
   "execution_count": 9,
   "metadata": {},
   "outputs": [
    {
     "name": "stdout",
     "output_type": "stream",
     "text": [
      "0, x_(0, 0)\n",
      "    1, x_(1, 1)\n",
      "    2, x_(1, 0)\n",
      "        3, x_(2, 1)\n",
      "        4, x_(2, 0)\n",
      "            5, x_(3, 1)\n",
      "            6, x_(3, 0)\n",
      "                7, x_(4, 1)\n"
     ]
    }
   ],
   "source": [
    "root.print_tree()"
   ]
  },
  {
   "cell_type": "code",
   "execution_count": 10,
   "metadata": {},
   "outputs": [
    {
     "name": "stdout",
     "output_type": "stream",
     "text": [
      "{-5: 78.7910248837216, -4: 25.19287485057736, -3: 5.475217368561138, -2: -2.1245455833123654, -1: -5.206420553732112, 0: -6.583436881740736, 1: -7.478875551670706, 2: -8.122494091876028, 3: -8.69341506507248, 4: -9.30739060021559, 5: -9.745203241057222}\n"
     ]
    }
   ],
   "source": [
    "print(root.get_w())"
   ]
  },
  {
   "cell_type": "code",
   "execution_count": 11,
   "metadata": {},
   "outputs": [
    {
     "name": "stdout",
     "output_type": "stream",
     "text": [
      "{-5: 1, -4: 1, -3: 1, -2: 1, -1: 1, 0: 1, 1: 1, 2: 1, 3: 0, 4: 0, 5: 0}\n"
     ]
    }
   ],
   "source": [
    "print(root.policy)"
   ]
  }
 ],
 "metadata": {
  "kernelspec": {
   "display_name": "base",
   "language": "python",
   "name": "python3"
  },
  "language_info": {
   "codemirror_mode": {
    "name": "ipython",
    "version": 3
   },
   "file_extension": ".py",
   "mimetype": "text/x-python",
   "name": "python",
   "nbconvert_exporter": "python",
   "pygments_lexer": "ipython3",
   "version": "3.9.12"
  }
 },
 "nbformat": 4,
 "nbformat_minor": 2
}
