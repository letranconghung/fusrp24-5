{
 "cells": [
  {
   "cell_type": "code",
   "execution_count": 24,
   "metadata": {},
   "outputs": [],
   "source": [
    "import numpy as np\n",
    "import plotly.graph_objects as go\n",
    "import pandas as pd\n",
    "import seaborn as sns\n",
    "import matplotlib.pyplot as plt\n",
    "from functools import reduce\n",
    "from math import ceil, floor\n",
    "from typing import TypeVar, Callable, Dict\n",
    "import graphviz\n",
    "import itertools\n",
    "sns.set_style('darkgrid')"
   ]
  },
  {
   "cell_type": "code",
   "execution_count": 25,
   "metadata": {},
   "outputs": [],
   "source": [
    "TAB_SIZE = 4\n",
    "EPS = 1e-9\n",
    "INF = 1e30\n",
    "PRECISION = 6"
   ]
  },
  {
   "cell_type": "code",
   "execution_count": 26,
   "metadata": {},
   "outputs": [],
   "source": [
    "from scipy.stats import binom\n",
    "from iteround import saferound\n",
    "\n",
    "def binom_distribution(n, p):\n",
    "    arr = saferound([binom.pmf(k, n, p) for k in range(n+1)], PRECISION)\n",
    "    return dict(enumerate(arr))"
   ]
  },
  {
   "cell_type": "code",
   "execution_count": 27,
   "metadata": {},
   "outputs": [
    {
     "data": {
      "text/plain": [
       "{0: 0.107374,\n",
       " 1: 0.268436,\n",
       " 2: 0.30199,\n",
       " 3: 0.201327,\n",
       " 4: 0.08808,\n",
       " 5: 0.026424,\n",
       " 6: 0.005505,\n",
       " 7: 0.000786,\n",
       " 8: 7.4e-05,\n",
       " 9: 4e-06,\n",
       " 10: 0.0}"
      ]
     },
     "execution_count": 27,
     "metadata": {},
     "output_type": "execute_result"
    }
   ],
   "source": [
    "binom_distribution(10, .2)"
   ]
  },
  {
   "cell_type": "code",
   "execution_count": 28,
   "metadata": {},
   "outputs": [],
   "source": [
    "def AVAR(q, w, alpha):\n",
    "    eval = [(w[k], q[k]) for k in q.keys()]\n",
    "    res = 0\n",
    "    a = alpha\n",
    "    for wk, qk in sorted(eval, reverse=True):\n",
    "        if np.isclose(alpha, 0, atol = EPS):\n",
    "            break\n",
    "        if alpha >= qk:\n",
    "            res += wk*qk\n",
    "            alpha -= qk\n",
    "        else:\n",
    "            res += wk*alpha\n",
    "            alpha = 0\n",
    "    return res/a\n",
    "\n",
    "def add_qw(qw1, qw2):\n",
    "    # bad error for now\n",
    "    Q_sum = {}\n",
    "    w_sum = {}\n",
    "    for x1, q1 in qw1[0].items():\n",
    "        for x2, q2 in qw2[0].items():\n",
    "            qs = q1*q2\n",
    "            temp = qw1[1][x1] + qw2[1][x2]\n",
    "            if isinstance(x1, int) or isinstance(x1, np.int32):\n",
    "                x1 = (x1,)\n",
    "            if isinstance(x2, int) or isinstance(x2, np.int32):\n",
    "                x2 = (x2,)\n",
    "            xs = x1 + x2\n",
    "            Q_sum[xs] = qs \n",
    "            w_sum[xs] = temp\n",
    "    return (Q_sum, w_sum)\n",
    "\n",
    "def AVAR_of_sum(list_qw, alpha):\n",
    "    return AVAR(*reduce(add_qw, list_qw), alpha)\n",
    "\n",
    "def sum_of_AVAR(list_qw, alpha):\n",
    "    return sum([AVAR(*qw, alpha) for qw in list_qw])"
   ]
  },
  {
   "cell_type": "code",
   "execution_count": 29,
   "metadata": {},
   "outputs": [],
   "source": [
    "class Node:\n",
    "    def __init__(self, id: int, model, Q: Callable = None, cost: Callable = None, parent= None):\n",
    "        \"\"\"\n",
    "            cost = (x, u) -> or x ->\n",
    "            Q = (x_pa, u_pa) ->\n",
    "        \"\"\"\n",
    "        self.id = id\n",
    "        self.parent = parent\n",
    "        self.Q = Q\n",
    "        self.cost = cost\n",
    "        self.w = {}\n",
    "        self.policy = {}\n",
    "        self.children = []\n",
    "        self.terminal = True\n",
    "        self.model = model\n",
    "        self.name = str(id)\n",
    "        self.one_step = None\n",
    "        self.allowed_U = {x : self.model.U for x in self.model.X}\n",
    "\n",
    "    def add_child(self, node):\n",
    "        self.children.append(node)\n",
    "        node.parent = self\n",
    "        self.terminal = False\n",
    "        \n",
    "    def get_w(self):\n",
    "        if self.w:\n",
    "            return self.w\n",
    "        if self.terminal:\n",
    "            for x in self.model.X:\n",
    "                self.w[x] = self.cost(x)\n",
    "            return self.w\n",
    "        self.calc_policy()\n",
    "        return self.w\n",
    "\n",
    "    def calc_policy(self):\n",
    "        \"\"\"\n",
    "            Calculate the optimal policy and value for the maximal subtree rooted here\n",
    "        \"\"\"\n",
    "        if self.terminal:\n",
    "            raise Error(\"calc_policy ran on terminal nodes!\")\n",
    "\n",
    "        def net_one_step(x, u):\n",
    "            os = self.one_step([(child.Q(x, u), child.get_w()) for child in self.children])\n",
    "            # print(f'one_step ({x}, {u}): {os}')\n",
    "            res = self.cost(x, u) + os\n",
    "            return res\n",
    "\n",
    "        print(f'Calculating policy for {self.name}')\n",
    "        self.policy = {x: min(self.allowed_U[x], key = lambda u: net_one_step(x, u)) for x in self.model.X}\n",
    "        print(f'Finished calculating policy for {self.name}')\n",
    "        self.w = {x: net_one_step(x, self.policy[x]) for x in self.model.X}\n",
    "    \n",
    "    def print_tree(self, level = 0):\n",
    "        print(\" \" * TAB_SIZE * level + self.name)\n",
    "        for child in self.children:\n",
    "            child.print_tree(level+1)"
   ]
  },
  {
   "cell_type": "code",
   "execution_count": 30,
   "metadata": {},
   "outputs": [],
   "source": [
    "class Model:\n",
    "    def __init__(self, lo, hi, U, alpha):\n",
    "        \"\"\"\n",
    "            State space X = [lo, hi] of interval size = 1\n",
    "            Action space U\n",
    "            VaR calculation alpha\n",
    "            Assume that 0 is root node\n",
    "        \"\"\"\n",
    "        self.X = range(lo, hi + 1)\n",
    "        self.lo = lo\n",
    "        self.hi = hi\n",
    "        self.U = U\n",
    "        self.alpha = alpha\n",
    "        self.nodes = [Node(0, self)]\n",
    "        self.root = self.nodes[0]\n",
    "        self.edge_list = []\n",
    "        self.construct_graph()\n",
    "        self.construct_risks()\n",
    "         \n",
    "    def construct_graph(self):\n",
    "        raise NotImplementedError(\"construct_graph has not been properly implemented!\")\n",
    "    \n",
    "    def construct_risks(self):\n",
    "        raise NotImplementedError(\"construct_risks has not been properly implemented!\")\n",
    "        \n",
    "    \n",
    "    def bound(self, q):\n",
    "        q_res = {x : 0 for x in self.X}\n",
    "        for k, qk in q.items():\n",
    "            q_res[max(self.lo, min(k, self.hi))] += qk\n",
    "        return q_res\n",
    "    \n",
    "    def draw_edge(self, parent_i, child_i):\n",
    "        if max(parent_i, child_i) >= len(self.nodes):\n",
    "            # add nodes appropriately\n",
    "            self.nodes += [Node(i, self) for i in range(len(self.nodes), max(parent_i, child_i) + 1)]\n",
    "        self.nodes[parent_i].add_child(self.nodes[child_i])\n",
    "        \n",
    "    def visualize_graph(self):\n",
    "        graph = graphviz.Graph()\n",
    "        for pa, ch in self.edge_list:\n",
    "            graph.edge(str(self.nodes[pa].id), str(self.nodes[ch].id))\n",
    "        \n",
    "        graph.render('tree', format='png', view=True)\n",
    "        "
   ]
  },
  {
   "cell_type": "code",
   "execution_count": 31,
   "metadata": {},
   "outputs": [
    {
     "name": "stdout",
     "output_type": "stream",
     "text": [
      "23426\n"
     ]
    }
   ],
   "source": [
    "MAX_RESOURCES = 50\n",
    "MAX_CH = 3\n",
    "permutations = list(itertools.product(range(MAX_RESOURCES + 1), repeat=MAX_CH))\n",
    "ALL_U = [p for p in permutations if sum(p) <= MAX_RESOURCES]\n",
    "print(len(ALL_U))\n",
    "ALLOWED_U = {total: [p for p in ALL_U if sum(p) <= total] for total in range(MAX_RESOURCES + 1)}"
   ]
  },
  {
   "cell_type": "code",
   "execution_count": 32,
   "metadata": {},
   "outputs": [],
   "source": [
    "class DRModel(Model):\n",
    "    def __init__ (self, lo, hi, U, alpha):\n",
    "        super().__init__(lo, hi, U, alpha)\n",
    "        \n",
    "    def construct_graph(self):\n",
    "        \"\"\"\n",
    "            customize graph structure here\n",
    "        \"\"\"\n",
    "        self.edge_list = [(0, 1), (0, 2), (0, 3), (1, 4), (1, 5), (2, 6), (2, 7), (2, 8), (3, 9), (3, 10), (3, 11)]\n",
    "        for pa, ch in self.edge_list:\n",
    "            self.draw_edge(pa, ch)\n",
    "        for node in self.nodes:\n",
    "            if node.id == 0:\n",
    "                node.name += \"R\"\n",
    "                continue\n",
    "            if node.id >= 1 and node.id <= 3:\n",
    "                node.name += \"D\"\n",
    "                continue\n",
    "            node.name += \"L\"\n",
    "\n",
    "    def construct_risks(self):    \n",
    "        def q_into_d(x_pa, u_pa, ch_idx):\n",
    "            alloc = u_pa[ch_idx]\n",
    "            return self.bound(binom_distribution(alloc, .9))\n",
    "        \n",
    "        def q_into_l(x_pa, u_pa, ch_idx, necessary):\n",
    "            alloc = u_pa[ch_idx]\n",
    "            n_dead = max(necessary-alloc, 0)\n",
    "            return self.bound(binom_distribution(n_dead, .2))\n",
    "        \n",
    "        def c_term(x):\n",
    "            return 1000 * x\n",
    "\n",
    "        def c(x, u, n_ch):\n",
    "            return sum(u[:n_ch])\n",
    "        \n",
    "        for node in self.nodes:\n",
    "            # assign allowed_U\n",
    "            node.allowed_U = ALLOWED_U\n",
    "            # assign costs\n",
    "            if 'R' in node.name:\n",
    "                for ch_idx, child in enumerate(node.children):\n",
    "                    child.Q = lambda x_pa, u_pa, aux_ch_idx = ch_idx : q_into_d(x_pa, u_pa, aux_ch_idx)\n",
    "            elif 'D' in node.name:\n",
    "                for ch_idx, child in enumerate(node.children):\n",
    "                    child.Q = lambda x_pa, u_pa, aux_ch_idx = ch_idx, aux_ch_id = child.id : q_into_l(x_pa, u_pa, aux_ch_idx, necessary= aux_ch_id - 3)\n",
    "            \n",
    "            if not node.terminal:\n",
    "                node.cost = lambda x, u, aux_node = node : c(x, u, len(aux_node.children))\n",
    "                node.one_step = lambda list_qw : sum_of_AVAR(list_qw, self.alpha)\n",
    "            else:\n",
    "                node.cost = c_term"
   ]
  },
  {
   "cell_type": "code",
   "execution_count": 33,
   "metadata": {},
   "outputs": [],
   "source": [
    "drmodel = DRModel(0, MAX_RESOURCES, ALL_U, 0.3)"
   ]
  },
  {
   "cell_type": "code",
   "execution_count": 34,
   "metadata": {},
   "outputs": [
    {
     "name": "stdout",
     "output_type": "stream",
     "text": [
      "Calculating policy for 0R\n",
      "Calculating policy for 1D\n",
      "Finished calculating policy for 1D\n",
      "Calculating policy for 2D\n",
      "Finished calculating policy for 2D\n",
      "Calculating policy for 3D\n",
      "Finished calculating policy for 3D\n",
      "Finished calculating policy for 0R\n"
     ]
    }
   ],
   "source": [
    "drmodel.root.calc_policy()"
   ]
  },
  {
   "cell_type": "code",
   "execution_count": 35,
   "metadata": {},
   "outputs": [],
   "source": [
    "def simplify(policy, n_ch, total):\n",
    "    return tuple((*policy[:n_ch], total - sum(policy) + sum(policy[n_ch:])))"
   ]
  },
  {
   "cell_type": "code",
   "execution_count": 36,
   "metadata": {},
   "outputs": [
    {
     "name": "stdout",
     "output_type": "stream",
     "text": [
      "The consolidated policy for node 0 is:\n",
      "{0: (0, 0, 0, 50), 1: (1, 0, 0, 49), 2: (2, 0, 0, 48), 3: (3, 0, 0, 47), 4: (4, 0, 0, 46), 5: (4, 1, 0, 45), 6: (4, 2, 0, 44), 7: (2, 5, 0, 43), 8: (4, 4, 0, 42), 9: (4, 5, 0, 41), 10: (4, 6, 0, 40), 11: (4, 7, 0, 39), 12: (4, 8, 0, 38), 13: (4, 9, 0, 37), 14: (4, 10, 0, 36), 15: (4, 11, 0, 35), 16: (4, 12, 0, 34), 17: (4, 13, 0, 33), 18: (4, 14, 0, 32), 19: (4, 15, 0, 31), 20: (4, 15, 1, 30), 21: (4, 15, 2, 29), 22: (4, 10, 8, 28), 23: (4, 11, 8, 27), 24: (4, 11, 9, 26), 25: (4, 14, 7, 25), 26: (4, 14, 8, 24), 27: (4, 15, 8, 23), 28: (4, 15, 9, 22), 29: (4, 9, 16, 21), 30: (4, 10, 16, 20), 31: (4, 10, 17, 19), 32: (4, 11, 17, 18), 33: (4, 14, 15, 17), 34: (4, 14, 16, 16), 35: (4, 14, 17, 15), 36: (4, 15, 17, 14), 37: (4, 15, 18, 13), 38: (4, 14, 20, 12), 39: (4, 14, 21, 11), 40: (4, 15, 21, 10), 41: (4, 14, 23, 9), 42: (4, 14, 24, 8), 43: (4, 14, 25, 7), 44: (4, 15, 25, 6), 45: (4, 15, 26, 5), 46: (5, 15, 26, 4), 47: (5, 16, 26, 3), 48: (5, 16, 27, 2), 49: (5, 17, 27, 1), 50: (5, 17, 28, 0)}\n",
      "The consolidated policy for node 1 is:\n",
      "{0: (0, 0, 50), 1: (1, 0, 49), 2: (0, 2, 48), 3: (1, 2, 47), 4: (1, 2, 47), 5: (1, 2, 47), 6: (1, 2, 47), 7: (1, 2, 47), 8: (1, 2, 47), 9: (1, 2, 47), 10: (1, 2, 47), 11: (1, 2, 47), 12: (1, 2, 47), 13: (1, 2, 47), 14: (1, 2, 47), 15: (1, 2, 47), 16: (1, 2, 47), 17: (1, 2, 47), 18: (1, 2, 47), 19: (1, 2, 47), 20: (1, 2, 47), 21: (1, 2, 47), 22: (1, 2, 47), 23: (1, 2, 47), 24: (1, 2, 47), 25: (1, 2, 47), 26: (1, 2, 47), 27: (1, 2, 47), 28: (1, 2, 47), 29: (1, 2, 47), 30: (1, 2, 47), 31: (1, 2, 47), 32: (1, 2, 47), 33: (1, 2, 47), 34: (1, 2, 47), 35: (1, 2, 47), 36: (1, 2, 47), 37: (1, 2, 47), 38: (1, 2, 47), 39: (1, 2, 47), 40: (1, 2, 47), 41: (1, 2, 47), 42: (1, 2, 47), 43: (1, 2, 47), 44: (1, 2, 47), 45: (1, 2, 47), 46: (1, 2, 47), 47: (1, 2, 47), 48: (1, 2, 47), 49: (1, 2, 47), 50: (1, 2, 47)}\n",
      "The consolidated policy for node 2 is:\n",
      "{0: (0, 0, 0, 50), 1: (0, 0, 1, 49), 2: (0, 0, 2, 48), 3: (3, 0, 0, 47), 4: (3, 0, 1, 46), 5: (0, 0, 5, 45), 6: (0, 1, 5, 44), 7: (3, 4, 0, 43), 8: (3, 0, 5, 42), 9: (0, 4, 5, 41), 10: (1, 4, 5, 40), 11: (2, 4, 5, 39), 12: (3, 4, 5, 38), 13: (3, 4, 5, 38), 14: (3, 4, 5, 38), 15: (3, 4, 5, 38), 16: (3, 4, 5, 38), 17: (3, 4, 5, 38), 18: (3, 4, 5, 38), 19: (3, 4, 5, 38), 20: (3, 4, 5, 38), 21: (3, 4, 5, 38), 22: (3, 4, 5, 38), 23: (3, 4, 5, 38), 24: (3, 4, 5, 38), 25: (3, 4, 5, 38), 26: (3, 4, 5, 38), 27: (3, 4, 5, 38), 28: (3, 4, 5, 38), 29: (3, 4, 5, 38), 30: (3, 4, 5, 38), 31: (3, 4, 5, 38), 32: (3, 4, 5, 38), 33: (3, 4, 5, 38), 34: (3, 4, 5, 38), 35: (3, 4, 5, 38), 36: (3, 4, 5, 38), 37: (3, 4, 5, 38), 38: (3, 4, 5, 38), 39: (3, 4, 5, 38), 40: (3, 4, 5, 38), 41: (3, 4, 5, 38), 42: (3, 4, 5, 38), 43: (3, 4, 5, 38), 44: (3, 4, 5, 38), 45: (3, 4, 5, 38), 46: (3, 4, 5, 38), 47: (3, 4, 5, 38), 48: (3, 4, 5, 38), 49: (3, 4, 5, 38), 50: (3, 4, 5, 38)}\n",
      "The consolidated policy for node 3 is:\n",
      "{0: (0, 0, 0, 50), 1: (1, 0, 0, 49), 2: (2, 0, 0, 48), 3: (3, 0, 0, 47), 4: (3, 0, 1, 46), 5: (5, 0, 0, 45), 6: (6, 0, 0, 44), 7: (6, 0, 1, 43), 8: (1, 7, 0, 42), 9: (2, 7, 0, 41), 10: (3, 7, 0, 40), 11: (3, 0, 8, 39), 12: (5, 7, 0, 38), 13: (6, 7, 0, 37), 14: (6, 0, 8, 36), 15: (0, 7, 8, 35), 16: (1, 7, 8, 34), 17: (2, 7, 8, 33), 18: (3, 7, 8, 32), 19: (4, 7, 8, 31), 20: (5, 7, 8, 30), 21: (6, 7, 8, 29), 22: (6, 7, 8, 29), 23: (6, 7, 8, 29), 24: (6, 7, 8, 29), 25: (6, 7, 8, 29), 26: (6, 7, 8, 29), 27: (6, 7, 8, 29), 28: (6, 7, 8, 29), 29: (6, 7, 8, 29), 30: (6, 7, 8, 29), 31: (6, 7, 8, 29), 32: (6, 7, 8, 29), 33: (6, 7, 8, 29), 34: (6, 7, 8, 29), 35: (6, 7, 8, 29), 36: (6, 7, 8, 29), 37: (6, 7, 8, 29), 38: (6, 7, 8, 29), 39: (6, 7, 8, 29), 40: (6, 7, 8, 29), 41: (6, 7, 8, 29), 42: (6, 7, 8, 29), 43: (6, 7, 8, 29), 44: (6, 7, 8, 29), 45: (6, 7, 8, 29), 46: (6, 7, 8, 29), 47: (6, 7, 8, 29), 48: (6, 7, 8, 29), 49: (6, 7, 8, 29), 50: (6, 7, 8, 29)}\n"
     ]
    }
   ],
   "source": [
    "simplified_policies = {}\n",
    "for i in range(4):\n",
    "    simplified_policies[i] = {k : simplify(drmodel.nodes[i].policy[k], len(drmodel.nodes[i].children), MAX_RESOURCES) for k in drmodel.nodes[i].policy}\n",
    "    print(f'The consolidated policy for node {i} is:')\n",
    "    print(simplified_policies[i])"
   ]
  },
  {
   "cell_type": "code",
   "execution_count": 37,
   "metadata": {},
   "outputs": [],
   "source": [
    "drmodel.visualize_graph()"
   ]
  },
  {
   "cell_type": "code",
   "execution_count": 50,
   "metadata": {},
   "outputs": [
    {
     "data": {
      "text/plain": [
       "{0: (0, 0, 0, 50),\n",
       " 1: (1, 0, 0, 49),\n",
       " 2: (2, 0, 0, 48),\n",
       " 3: (3, 0, 0, 47),\n",
       " 4: (4, 0, 0, 46),\n",
       " 5: (4, 1, 0, 45),\n",
       " 6: (4, 2, 0, 44),\n",
       " 7: (2, 5, 0, 43),\n",
       " 8: (4, 4, 0, 42),\n",
       " 9: (4, 5, 0, 41),\n",
       " 10: (4, 6, 0, 40),\n",
       " 11: (4, 7, 0, 39),\n",
       " 12: (4, 8, 0, 38),\n",
       " 13: (4, 9, 0, 37),\n",
       " 14: (4, 10, 0, 36),\n",
       " 15: (4, 11, 0, 35),\n",
       " 16: (4, 12, 0, 34),\n",
       " 17: (4, 13, 0, 33),\n",
       " 18: (4, 14, 0, 32),\n",
       " 19: (4, 15, 0, 31),\n",
       " 20: (4, 15, 1, 30),\n",
       " 21: (4, 15, 2, 29),\n",
       " 22: (4, 10, 8, 28),\n",
       " 23: (4, 11, 8, 27),\n",
       " 24: (4, 11, 9, 26),\n",
       " 25: (4, 14, 7, 25),\n",
       " 26: (4, 14, 8, 24),\n",
       " 27: (4, 15, 8, 23),\n",
       " 28: (4, 15, 9, 22),\n",
       " 29: (4, 9, 16, 21),\n",
       " 30: (4, 10, 16, 20),\n",
       " 31: (4, 10, 17, 19),\n",
       " 32: (4, 11, 17, 18),\n",
       " 33: (4, 14, 15, 17),\n",
       " 34: (4, 14, 16, 16),\n",
       " 35: (4, 14, 17, 15),\n",
       " 36: (4, 15, 17, 14),\n",
       " 37: (4, 15, 18, 13),\n",
       " 38: (4, 14, 20, 12),\n",
       " 39: (4, 14, 21, 11),\n",
       " 40: (4, 15, 21, 10),\n",
       " 41: (4, 14, 23, 9),\n",
       " 42: (4, 14, 24, 8),\n",
       " 43: (4, 14, 25, 7),\n",
       " 44: (4, 15, 25, 6),\n",
       " 45: (4, 15, 26, 5),\n",
       " 46: (5, 15, 26, 4),\n",
       " 47: (5, 16, 26, 3),\n",
       " 48: (5, 16, 27, 2),\n",
       " 49: (5, 17, 27, 1),\n",
       " 50: (5, 17, 28, 0)}"
      ]
     },
     "execution_count": 50,
     "metadata": {},
     "output_type": "execute_result"
    }
   ],
   "source": [
    "simplified_policies[0]"
   ]
  },
  {
   "cell_type": "code",
   "execution_count": 54,
   "metadata": {},
   "outputs": [
    {
     "data": {
      "text/plain": [
       "{0: (0, 0, 0, 50),\n",
       " 1: (1, 0, 0, 49),\n",
       " 2: (2, 0, 0, 48),\n",
       " 3: (3, 0, 0, 47),\n",
       " 4: (3, 0, 1, 46),\n",
       " 5: (5, 0, 0, 45),\n",
       " 6: (6, 0, 0, 44),\n",
       " 7: (6, 0, 1, 43),\n",
       " 8: (1, 7, 0, 42),\n",
       " 9: (2, 7, 0, 41),\n",
       " 10: (3, 7, 0, 40),\n",
       " 11: (3, 0, 8, 39),\n",
       " 12: (5, 7, 0, 38),\n",
       " 13: (6, 7, 0, 37),\n",
       " 14: (6, 0, 8, 36),\n",
       " 15: (0, 7, 8, 35),\n",
       " 16: (1, 7, 8, 34),\n",
       " 17: (2, 7, 8, 33),\n",
       " 18: (3, 7, 8, 32),\n",
       " 19: (4, 7, 8, 31),\n",
       " 20: (5, 7, 8, 30),\n",
       " 21: (6, 7, 8, 29),\n",
       " 22: (6, 7, 8, 29),\n",
       " 23: (6, 7, 8, 29),\n",
       " 24: (6, 7, 8, 29),\n",
       " 25: (6, 7, 8, 29),\n",
       " 26: (6, 7, 8, 29),\n",
       " 27: (6, 7, 8, 29),\n",
       " 28: (6, 7, 8, 29),\n",
       " 29: (6, 7, 8, 29),\n",
       " 30: (6, 7, 8, 29),\n",
       " 31: (6, 7, 8, 29),\n",
       " 32: (6, 7, 8, 29),\n",
       " 33: (6, 7, 8, 29),\n",
       " 34: (6, 7, 8, 29),\n",
       " 35: (6, 7, 8, 29),\n",
       " 36: (6, 7, 8, 29),\n",
       " 37: (6, 7, 8, 29),\n",
       " 38: (6, 7, 8, 29),\n",
       " 39: (6, 7, 8, 29),\n",
       " 40: (6, 7, 8, 29),\n",
       " 41: (6, 7, 8, 29),\n",
       " 42: (6, 7, 8, 29),\n",
       " 43: (6, 7, 8, 29),\n",
       " 44: (6, 7, 8, 29),\n",
       " 45: (6, 7, 8, 29),\n",
       " 46: (6, 7, 8, 29),\n",
       " 47: (6, 7, 8, 29),\n",
       " 48: (6, 7, 8, 29),\n",
       " 49: (6, 7, 8, 29),\n",
       " 50: (6, 7, 8, 29)}"
      ]
     },
     "execution_count": 54,
     "metadata": {},
     "output_type": "execute_result"
    }
   ],
   "source": [
    "simplified_policies[3]"
   ]
  },
  {
   "cell_type": "code",
   "execution_count": 40,
   "metadata": {},
   "outputs": [],
   "source": [
    "import pickle\n",
    "import time\n",
    "import os\n",
    "current_time = time.strftime(\"%m%d-%H%M%S\")\n",
    "directory = f\"pickles/{current_time}\"\n",
    "if not os.path.exists(directory):\n",
    "    os.makedirs(directory)\n",
    "for node in drmodel.nodes:\n",
    "    if node.policy:\n",
    "        policy_pickle = f\"{directory}/policy_{node.id}.pickle\"\n",
    "        with open(policy_pickle, \"wb\") as f:\n",
    "            pickle.dump(node.policy, f)\n",
    "    \n",
    "    if node.w:\n",
    "        w_pickle = f\"{directory}/w_{node.id}.pickle\"\n",
    "        with open(w_pickle, \"wb\") as f:\n",
    "            pickle.dump(node.w, f)"
   ]
  },
  {
   "cell_type": "code",
   "execution_count": 51,
   "metadata": {},
   "outputs": [
    {
     "data": {
      "text/plain": [
       "{0: (0, 0, 0),\n",
       " 1: (1, 0, 0),\n",
       " 2: (2, 0, 0),\n",
       " 3: (3, 0, 0),\n",
       " 4: (4, 0, 0),\n",
       " 5: (4, 1, 0),\n",
       " 6: (4, 2, 0),\n",
       " 7: (2, 5, 0),\n",
       " 8: (4, 4, 0),\n",
       " 9: (4, 5, 0),\n",
       " 10: (4, 6, 0),\n",
       " 11: (4, 7, 0),\n",
       " 12: (4, 8, 0),\n",
       " 13: (4, 9, 0),\n",
       " 14: (4, 10, 0),\n",
       " 15: (4, 11, 0),\n",
       " 16: (4, 12, 0),\n",
       " 17: (4, 13, 0),\n",
       " 18: (4, 14, 0),\n",
       " 19: (4, 15, 0),\n",
       " 20: (4, 15, 1),\n",
       " 21: (4, 15, 2),\n",
       " 22: (4, 10, 8),\n",
       " 23: (4, 11, 8),\n",
       " 24: (4, 11, 9),\n",
       " 25: (4, 14, 7),\n",
       " 26: (4, 14, 8),\n",
       " 27: (4, 15, 8),\n",
       " 28: (4, 15, 9),\n",
       " 29: (4, 9, 16),\n",
       " 30: (4, 10, 16),\n",
       " 31: (4, 10, 17),\n",
       " 32: (4, 11, 17),\n",
       " 33: (4, 14, 15),\n",
       " 34: (4, 14, 16),\n",
       " 35: (4, 14, 17),\n",
       " 36: (4, 15, 17),\n",
       " 37: (4, 15, 18),\n",
       " 38: (4, 14, 20),\n",
       " 39: (4, 14, 21),\n",
       " 40: (4, 15, 21),\n",
       " 41: (4, 14, 23),\n",
       " 42: (4, 14, 24),\n",
       " 43: (4, 14, 25),\n",
       " 44: (4, 15, 25),\n",
       " 45: (4, 15, 26),\n",
       " 46: (5, 15, 26),\n",
       " 47: (5, 16, 26),\n",
       " 48: (5, 16, 27),\n",
       " 49: (5, 17, 27),\n",
       " 50: (5, 17, 28)}"
      ]
     },
     "execution_count": 51,
     "metadata": {},
     "output_type": "execute_result"
    }
   ],
   "source": [
    "import pickle\n",
    "\n",
    "policy_pickle = \"pickles/0725-093751/policy_0.pickle\"\n",
    "\n",
    "with open(policy_pickle, \"rb\") as f:\n",
    "    policy_0 = pickle.load(f)\n",
    "\n",
    "policy_0"
   ]
  }
 ],
 "metadata": {
  "kernelspec": {
   "display_name": "Python 3",
   "language": "python",
   "name": "python3"
  },
  "language_info": {
   "codemirror_mode": {
    "name": "ipython",
    "version": 3
   },
   "file_extension": ".py",
   "mimetype": "text/x-python",
   "name": "python",
   "nbconvert_exporter": "python",
   "pygments_lexer": "ipython3",
   "version": "3.8.18"
  }
 },
 "nbformat": 4,
 "nbformat_minor": 2
}
