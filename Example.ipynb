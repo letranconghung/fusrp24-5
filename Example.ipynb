{
 "cells": [
  {
   "cell_type": "code",
   "execution_count": 1,
   "metadata": {},
   "outputs": [],
   "source": [
    "import numpy as np\n",
    "\n",
    "# Definition of the states, accions y parameters\n",
    "alpha = 0.3 # 30%\n",
    "Normal = np.random.normal\n",
    "\n",
    "# State space\n",
    "X = [i for i in range (-5, 6)]\n",
    "\n",
    "# Control space \n",
    "U = [0, 1]\n",
    "\n",
    "# Latest time\n",
    "T = 3"
   ]
  },
  {
   "cell_type": "code",
   "execution_count": 2,
   "metadata": {},
   "outputs": [],
   "source": [
    "class Node:\n",
    "    def __init__(self, t, a, father = None):\n",
    "        self.t = t # Time\n",
    "        self.a = a # Action\n",
    "        self.father = father\n",
    "        self.w = 0 # cost\n",
    "        self.x = 0 # state\n",
    "        self.childs = []\n",
    "        self.policy = None\n",
    "    def new_child(self, node):\n",
    "        self.childs.append(node) # Add the new child\n"
   ]
  },
  {
   "cell_type": "code",
   "execution_count": 3,
   "metadata": {},
   "outputs": [],
   "source": [
    "# Define costs\n",
    "def cost(t, s, x, a):\n",
    "    if s == 0 and a == 0:\n",
    "        return 0\n",
    "    if s == 0 and a == 1:\n",
    "        return 1\n",
    "    if s == 1: # Cot of terminal nodes in this case\n",
    "        return np.exp(-x) - t \n",
    "\n",
    "\n",
    "# To pre calculate all terminal nodes and save them\n",
    "# w_{t,1}\n",
    "def precalc_terminals_w(X, T):\n",
    "    w = dict()\n",
    "    for t in range(T+1):\n",
    "        s = t\n",
    "        s_ = dict()\n",
    "        for u in U:\n",
    "            s_[u] = dict()\n",
    "        \n",
    "        # This is for this case only\n",
    "        for x in X: \n",
    "            s_[1][x] = np.exp(-x) - t # Cost of terminal nodes in this case\n",
    "        w[s] = s_\n",
    "\n",
    "    return w\n",
    "\n",
    "def precal_Q(X):\n",
    "    Q = dict()\n",
    "    for x in X:\n",
    "        Q[x] = dict()\n",
    "        Q[x][0] = dict()\n",
    "        Q[x][0][0] = {x-1: 0.2, x-1: 0.2, x: 0.2, x+1: 0.2, x+2: 0.2}\n",
    "        Q[x][0][1] = {x+1: 0.4, x+2: 0.2, x+3: 0.4}\n",
    "        \n",
    "        Q[x][1] = dict()\n",
    "        Q[x][1][0] = {x-1: 0.6, x: 0.2, x+1: 0.2}\n",
    "        Q[x][1][1] = {x-1: 0.2, x: 0.4, x+1: 0.4}\n",
    "    return Q\n",
    "\n",
    "# In this case we have w_{t, 1} where 1 is the control space chosen\n",
    "w = precalc_terminals_w(X, T)\n",
    "# w[t][1]\n",
    "w[0] = 0\n",
    "\n",
    "\n",
    "Q_ = precal_Q(X)"
   ]
  },
  {
   "cell_type": "code",
   "execution_count": 4,
   "metadata": {},
   "outputs": [],
   "source": [
    "def Q(s, x, d): #Q^{t,s}(x, d) # In this case, q does not depend on t\n",
    "    return Q_[x][s][d]"
   ]
  },
  {
   "cell_type": "code",
   "execution_count": 11,
   "metadata": {},
   "outputs": [],
   "source": [
    "def AVAR(q, w, alpha):\n",
    "    # we recive w = w_{t+1}\n",
    "\n",
    "    # this is something like {w(1): 20%, w(): 60%}\n",
    "    eval = [(w[max(-5, min(k, 5))], q[k])  for k in q.keys()]\n",
    "    s = sorted(eval, reverse=True)\n",
    "    res = 0\n",
    "    i = 0\n",
    "    a = alpha\n",
    "    while(alpha > 0):\n",
    "        if alpha >= s[i][1]:\n",
    "            res += s[i][0]*s[i][1]\n",
    "            alpha -= s[i][1]\n",
    "        else:\n",
    "            res += s[i][0]*alpha\n",
    "            alpha = 0\n",
    "        i += 1\n",
    "    return res/a"
   ]
  },
  {
   "cell_type": "code",
   "execution_count": 19,
   "metadata": {},
   "outputs": [
    {
     "name": "stdout",
     "output_type": "stream",
     "text": [
      "w(2, 0, -5) =, 52.598150033144236, policy: 1 \n",
      "w(2, 0, -4) =, 18.085536923187668, policy: 1 \n",
      "w(2, 0, -3) =, 5.38905609893065, policy: 1 \n",
      "w(2, 0, -2) =, 0.7182818284590451, policy: 1 \n",
      "w(2, 0, -1) =, -1.0, policy: 1 \n",
      "w(2, 0, 0) =, -1.6321205588285577, policy: 1 \n",
      "w(2, 0, 1) =, -2.210706852942853, policy: 0 \n",
      "w(2, 0, 2) =, -2.7096352781401674, policy: 0 \n",
      "w(2, 0, 3) =, -2.8931807883863034, policy: 0 \n",
      "w(2, 0, 4) =, -2.9607034081251795, policy: 0 \n",
      "w(2, 0, 5) =, -2.9855435917411484, policy: 0 \n",
      "w(1, 0, -5) =, 71.68368695633191, policy: 1 \n",
      "w(1, 0, -4) =, 24.47459302211832, policy: 1 \n",
      "w(1, 0, -3) =, 7.107337927389695, policy: 1 \n",
      "w(1, 0, -2) =, 0.7182818284590451, policy: 1 \n",
      "w(1, 0, -1) =, -1.6321205588285577, policy: 1 \n",
      "w(1, 0, 0) =, -2.8428274117714105, policy: 1 \n",
      "w(1, 0, 1) =, -3.5742999949035545, policy: 1 \n",
      "w(1, 0, 2) =, -4.086651606148792, policy: 0 \n",
      "w(1, 0, 3) =, -4.663997903275183, policy: 0 \n",
      "w(1, 0, 4) =, -4.876391736424441, policy: 0 \n",
      "w(1, 0, 5) =, -4.954527061071651, policy: 0 \n"
     ]
    }
   ],
   "source": [
    "policy = {}\n",
    "t = 2\n",
    "s = 0\n",
    "while t > 0:\n",
    "    for x in X:\n",
    "        if t == 2:\n",
    "            policy[x] = min(U, key=lambda u: cost(t, s, x, u) + AVAR(Q(s, x, u), w[t+1][1], alpha))\n",
    "            u = policy[x]\n",
    "            w[t][s][x] = cost(t, s, x, u) + AVAR(Q(s, x, u), w[t+1][1], alpha)\n",
    "        else:\n",
    "            policy[x] = min(U, key=lambda u: cost(t, s, x, u) + AVAR(Q(s, x, u), w[t+1][1], alpha) + AVAR(Q(s, x, u), w[t+1][0], alpha))\n",
    "            u = policy[x]\n",
    "            w[t][s][x] = cost(t, s, x, u) + AVAR(Q(s, x, u), w[t+1][1], alpha) + AVAR(Q(s, x, u), w[t+1][0], alpha)\n",
    "\n",
    "        print(f'w{t, s, x} =, {w[t][s][x]}, policy: {u} ')\n",
    "    t = t-1"
   ]
  }
 ],
 "metadata": {
  "kernelspec": {
   "display_name": "base",
   "language": "python",
   "name": "python3"
  },
  "language_info": {
   "codemirror_mode": {
    "name": "ipython",
    "version": 3
   },
   "file_extension": ".py",
   "mimetype": "text/x-python",
   "name": "python",
   "nbconvert_exporter": "python",
   "pygments_lexer": "ipython3",
   "version": "3.9.12"
  }
 },
 "nbformat": 4,
 "nbformat_minor": 2
}
